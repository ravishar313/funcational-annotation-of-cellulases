{
 "cells": [
  {
   "cell_type": "code",
   "execution_count": 1,
   "metadata": {
    "id": "GhpFIvuhh2h1",
    "scrolled": true
   },
   "outputs": [
    {
     "name": "stderr",
     "output_type": "stream",
     "text": [
      "2023-04-11 15:51:37.006043: I tensorflow/tsl/cuda/cudart_stub.cc:28] Could not find cuda drivers on your machine, GPU will not be used.\n",
      "2023-04-11 15:51:37.082009: I tensorflow/tsl/cuda/cudart_stub.cc:28] Could not find cuda drivers on your machine, GPU will not be used.\n",
      "2023-04-11 15:51:54.989563: W tensorflow/compiler/tf2tensorrt/utils/py_utils.cc:38] TF-TRT Warning: Could not find TensorRT\n"
     ]
    }
   ],
   "source": [
    "import os\n",
    "import numpy as np\n",
    "import pandas as pd\n",
    "from tensorflow.keras.utils import to_categorical\n",
    "from sklearn.model_selection import train_test_split"
   ]
  },
  {
   "cell_type": "code",
   "execution_count": 2,
   "metadata": {},
   "outputs": [
    {
     "name": "stdout",
     "output_type": "stream",
     "text": [
      "Libraries loaded successfully\n"
     ]
    }
   ],
   "source": [
    "print('Libraries loaded successfully')"
   ]
  },
  {
   "cell_type": "code",
   "execution_count": 3,
   "metadata": {
    "id": "UmKrPkVlh4uk"
   },
   "outputs": [],
   "source": [
    "def preprocessing(fasta_file, temp_file):\n",
    "    l = 1000\n",
    "    fp = open(temp_file, 'w')\n",
    "    \n",
    "    with open (fasta_file, 'r') as file:\n",
    "        seq=[]\n",
    "        seq_id=[]\n",
    "        for line in file:\n",
    "            if line.startswith('>'):\n",
    "                seq_id.append(line.strip('>').strip('\\n'))\n",
    "            else:\n",
    "                seq.append(line.strip('\\n'))\n",
    "            \n",
    "    for j, sq in enumerate(seq):   \n",
    "        if len(sq) <= 1000:\n",
    "            fp.write('>%s\\n'%(seq_id[j]))\n",
    "            fp.write('%s\\n'%(seq[j]))\n",
    "        else:\n",
    "            for i in range(0, len(seq)-l+1, 100):\n",
    "                new_seq_id = '%s_SEPARATED_SEQUENCE_(%s_%s)' % (seq_id[j], i+1, i+l+1)\n",
    "                new_seq = sq[i:i+l]\n",
    "                fp.write('>%s\\n'%(new_seq_id))\n",
    "                fp.write('%s\\n'%(new_seq))\n",
    "    \n",
    "    #input_handle.close()\n",
    "    fp.close()\n",
    "    return "
   ]
  },
  {
   "cell_type": "code",
   "execution_count": 4,
   "metadata": {
    "id": "D-2lrZOhh86B"
   },
   "outputs": [],
   "source": [
    "def fill_aa(seq):\n",
    "    fill_aa_cnt = 1000 - len(seq)\n",
    "    add_aa_seq = '_' * fill_aa_cnt\n",
    "    new_seq = seq + add_aa_seq\n",
    "    return new_seq"
   ]
  },
  {
   "cell_type": "code",
   "execution_count": 5,
   "metadata": {
    "id": "d6nPqrK8in7x"
   },
   "outputs": [],
   "source": [
    "def score_info():\n",
    "    aa_list = ['A', 'C', 'D', 'E', 'F', 'G', 'H', 'I', 'K', 'L', 'M', 'N', 'P', 'Q', 'R', 'S', 'T', 'V', 'W', 'Y', 'X', '_']\n",
    "    aa_score_info = {}\n",
    "    for aa in aa_list:\n",
    "        for aa2 in aa_list:\n",
    "            if aa == aa2:\n",
    "                aa_score_info[(aa, aa2)] = 1.0\n",
    "                aa_score_info[(aa2, aa)] = 1.0\n",
    "            else:\n",
    "                aa_score_info[(aa, aa2)] = 0.0\n",
    "                aa_score_info[(aa2, aa)] = 0.0\n",
    "    return aa_score_info"
   ]
  },
  {
   "cell_type": "code",
   "execution_count": 6,
   "metadata": {
    "id": "ezxwwZ8biqaE"
   },
   "outputs": [],
   "source": [
    "def one_hot_encoding(seq, aa_score_info):\n",
    "    data = np.zeros((1000, 21), dtype=np.float32)\n",
    "    aa_list = ['A', 'C', 'D', 'E', 'F', 'G', 'H', 'I', 'K', 'L', 'M', 'N', 'P', 'Q', 'R', 'S', 'T', 'V', 'W', 'Y', 'X']\n",
    "    for i, aa in enumerate(seq):\n",
    "        for j, aa2 in enumerate(aa_list):\n",
    "            data[i, j] = aa_score_info[aa, aa2]\n",
    "    return data"
   ]
  },
  {
   "cell_type": "code",
   "execution_count": 7,
   "metadata": {},
   "outputs": [],
   "source": [
    "counter=0\n",
    "def create_new_file(file):\n",
    "    global counter\n",
    "    counter += 1\n",
    "    filename = f\"{file}/{file}_{counter}.txt\"\n",
    "    return open(filename, 'w')\n"
   ]
  },
  {
   "cell_type": "code",
   "execution_count": 8,
   "metadata": {
    "id": "dB0PZ8zdiuba"
   },
   "outputs": [],
   "source": [
    "def run_one_hot_encoding(fasta_file2, temp_file):\n",
    "    aa_score_info = score_info()\n",
    "    \n",
    "    os.makedirs(temp_file)\n",
    "    \n",
    "    fp = create_new_file(temp_file)\n",
    "    \n",
    "    feature_names = ['Feature%s'%(i) for i in range(1, 21001)] \n",
    "    \n",
    "    fp.write('%s\\n'%(','.join(['ID']+feature_names)))\n",
    "    \n",
    "    with open (fasta_file2, 'r') as file:\n",
    "        seq=[]\n",
    "        seq_id=[]\n",
    "        for line in file:\n",
    "            if line.startswith('>'):\n",
    "                seq_id.append(line.strip('>').strip('\\n'))\n",
    "            else:\n",
    "                seq.append(line.strip('\\n'))\n",
    "                \n",
    "                \n",
    "    for j, sq in enumerate(seq):\n",
    "        try:\n",
    "            if len(sq) >= 10 and len(sq) <= 1000:\n",
    "                if len(sq) < 1000:\n",
    "                    sq = fill_aa(sq)\n",
    "                encoded_vector = one_hot_encoding(sq, aa_score_info)\n",
    "                flatten_encoded_vector = encoded_vector.flatten()\n",
    "                flatten_encoded_vector_str = [str(each_val) for each_val in flatten_encoded_vector]\n",
    "                fp.write('%s\\n'%(','.join([seq_id[j]]+flatten_encoded_vector_str)))\n",
    "                \n",
    "                # Check if the current iteration is a multiple of 1000\n",
    "                if (j + 1) % 1000 == 0:\n",
    "                    # If it is, close the current file and create a new one\n",
    "                    fp.close()\n",
    "                    fp = create_new_file(temp_file)\n",
    "                    fp.write('%s\\n'%(','.join(['ID']+feature_names)))\n",
    "            else:\n",
    "                pass\n",
    "        except:\n",
    "            pass\n",
    "    fp.close()"
   ]
  },
  {
   "cell_type": "code",
   "execution_count": 9,
   "metadata": {
    "id": "H9F5g2WFi5hv"
   },
   "outputs": [],
   "source": [
    "def create_df(df):\n",
    "    seq_ids = list(df.index)\n",
    "    X_temp = df.values\n",
    "    new_X = []\n",
    "    for i in range(len(X_temp)):\n",
    "        temp = np.reshape(X_temp[i], (1000, 21))\n",
    "        new_X.append(temp)\n",
    "    \n",
    "    X = np.asarray(new_X)\n",
    "    X = X.reshape(X.shape[0], 1000, 21, 1)\n",
    "    #print('numpy array created')\n",
    "    return X"
   ]
  },
  {
   "cell_type": "code",
   "execution_count": 10,
   "metadata": {
    "id": "xXOwj-7UkULc"
   },
   "outputs": [],
   "source": [
    "#creating dataset\n",
    "def create_dataset(fasta, tmp_file):\n",
    "    preprocessing(fasta, 'tmp.txt')\n",
    "    print('preprocessing done')\n",
    "    run_one_hot_encoding('tmp.txt', tmp_file)\n",
    "    print('one hot encoding done')\n",
    "    return"
   ]
  },
  {
   "cell_type": "code",
   "execution_count": 11,
   "metadata": {},
   "outputs": [],
   "source": [
    "def create_array(temp_file1, val1):\n",
    "    \n",
    "    file_list = os.listdir(temp_file1)\n",
    "    file_list.sort()\n",
    "    file_list\n",
    "    \n",
    "    X=np.empty((0, 1000, 21, 1))\n",
    "    y=np.empty((0,2))\n",
    "    \n",
    "    for file in file_list:\n",
    "        file_path=temp_file1+'/'+file\n",
    "        temp_df = pd.read_csv(file_path, index_col=0)\n",
    "        #print('temp df loaded')\n",
    "        X_new=create_df(temp_df)\n",
    "        X=np.concatenate((X, X_new), axis=0)\n",
    "        #print('X created')\n",
    "        y_new=np.full(len(temp_df.index), val1)\n",
    "        y_new= to_categorical(y_new, 2)\n",
    "        y=np.concatenate((y, y_new), axis=0)\n",
    "    \n",
    "    return X, y\n",
    "    print('done')"
   ]
  },
  {
   "cell_type": "code",
   "execution_count": 12,
   "metadata": {},
   "outputs": [
    {
     "name": "stdout",
     "output_type": "stream",
     "text": [
      "functions defined\n"
     ]
    }
   ],
   "source": [
    "print('functions defined')"
   ]
  },
  {
   "cell_type": "code",
   "execution_count": 13,
   "metadata": {},
   "outputs": [
    {
     "name": "stdout",
     "output_type": "stream",
     "text": [
      "preprocessing done\n",
      "one hot encoding done\n",
      "Enzyme dataset loaded\n"
     ]
    }
   ],
   "source": [
    "create_dataset('enzyme_90.fasta', 'tmp_enz')\n",
    "print('Enzyme dataset loaded')"
   ]
  },
  {
   "cell_type": "code",
   "execution_count": 14,
   "metadata": {},
   "outputs": [
    {
     "name": "stdout",
     "output_type": "stream",
     "text": [
      "removed tmp seq file\n"
     ]
    }
   ],
   "source": [
    "os.remove('tmp.txt')\n",
    "print('removed tmp seq file')"
   ]
  },
  {
   "cell_type": "code",
   "execution_count": 15,
   "metadata": {},
   "outputs": [
    {
     "name": "stdout",
     "output_type": "stream",
     "text": [
      "preprocessing done\n",
      "one hot encoding done\n",
      "non enzyme dataset loaded\n"
     ]
    }
   ],
   "source": [
    "create_dataset('non_enzyme_90.fasta', 'tmp_non_enz')\n",
    "print('non enzyme dataset loaded')"
   ]
  },
  {
   "cell_type": "code",
   "execution_count": 16,
   "metadata": {},
   "outputs": [
    {
     "name": "stdout",
     "output_type": "stream",
     "text": [
      "removed tmp seq file\n"
     ]
    }
   ],
   "source": [
    "os.remove('tmp.txt')\n",
    "print('removed tmp seq file')"
   ]
  },
  {
   "cell_type": "code",
   "execution_count": 13,
   "metadata": {
    "id": "UxyQXjvMlhcw"
   },
   "outputs": [
    {
     "name": "stdout",
     "output_type": "stream",
     "text": [
      "enzyme dataset loaded\n"
     ]
    }
   ],
   "source": [
    "X, y=create_array('tmp_enz',1)\n",
    "print('enzyme dataset loaded')"
   ]
  },
  {
   "cell_type": "code",
   "execution_count": 14,
   "metadata": {},
   "outputs": [
    {
     "name": "stdout",
     "output_type": "stream",
     "text": [
      "saving numpy files\n",
      "numpy files saved\n"
     ]
    }
   ],
   "source": [
    "print('saving numpy files')\n",
    "np.save('X_1',X)\n",
    "np.save('y_1',y)\n",
    "print('numpy files saved')"
   ]
  },
  {
   "cell_type": "code",
   "execution_count": 15,
   "metadata": {},
   "outputs": [
    {
     "name": "stdout",
     "output_type": "stream",
     "text": [
      "clearing memory\n"
     ]
    }
   ],
   "source": [
    "#setting X, y to zero to save memory\n",
    "X,y=[],[]\n",
    "\n",
    "print('clearing memory')"
   ]
  },
  {
   "cell_type": "code",
   "execution_count": 16,
   "metadata": {},
   "outputs": [
    {
     "name": "stdout",
     "output_type": "stream",
     "text": [
      "non enzyme dataset loaded\n"
     ]
    }
   ],
   "source": [
    "X, y=create_array('tmp_non_enz',0)\n",
    "print('non enzyme dataset loaded')"
   ]
  },
  {
   "cell_type": "code",
   "execution_count": 17,
   "metadata": {},
   "outputs": [
    {
     "name": "stdout",
     "output_type": "stream",
     "text": [
      "saving numpy files\n",
      "numpy files saved\n"
     ]
    }
   ],
   "source": [
    "print('saving numpy files')\n",
    "np.save('X_2',X)\n",
    "np.save('y_2',y)\n",
    "print('numpy files saved')"
   ]
  },
  {
   "cell_type": "code",
   "execution_count": 18,
   "metadata": {},
   "outputs": [
    {
     "name": "stdout",
     "output_type": "stream",
     "text": [
      "clearing memory\n"
     ]
    }
   ],
   "source": [
    "#setting X, y to zero to save memory\n",
    "X,y=[],[]\n",
    "\n",
    "print('clearing memory')"
   ]
  },
  {
   "cell_type": "code",
   "execution_count": 2,
   "metadata": {},
   "outputs": [
    {
     "name": "stdout",
     "output_type": "stream",
     "text": [
      "creating memory maps\n",
      "memory map for X created\n",
      "memory map for y created\n",
      "memory map for X created\n",
      "memory map for y created\n",
      "memory map created\n"
     ]
    }
   ],
   "source": [
    "#creating memory maps\n",
    "import numpy as np\n",
    "print('creating memory maps')\n",
    "X_1 = np.lib.format.open_memmap('X_1.npy', mode='r', dtype='float32')\n",
    "print('memory map for X created')\n",
    "y_1 = np.lib.format.open_memmap('y_1.npy', mode='r', dtype='float32')\n",
    "print('memory map for y created')\n",
    "X_2 = np.lib.format.open_memmap('X_2.npy', mode='r', dtype='float32')\n",
    "print('memory map for X created')\n",
    "y_2 = np.lib.format.open_memmap('y_2.npy', mode='r', dtype='float32')\n",
    "print('memory map for y created')\n",
    "print('memory map created')"
   ]
  },
  {
   "cell_type": "code",
   "execution_count": 30,
   "metadata": {},
   "outputs": [
    {
     "data": {
      "text/plain": [
       "393850"
      ]
     },
     "execution_count": 30,
     "metadata": {},
     "output_type": "execute_result"
    }
   ],
   "source": [
    "X_1.shape[0]+X_2.shape[0]"
   ]
  },
  {
   "cell_type": "code",
   "execution_count": 43,
   "metadata": {},
   "outputs": [],
   "source": [
    "X=np.lib.format.open_memmap('X.npy', dtype=np.float32, mode='w+',shape=(0,1000,21,1))"
   ]
  },
  {
   "cell_type": "code",
   "execution_count": 44,
   "metadata": {},
   "outputs": [],
   "source": [
    "X=np.concatenate((X, X_1), axis=0)\n"
   ]
  },
  {
   "cell_type": "code",
   "execution_count": 45,
   "metadata": {},
   "outputs": [
    {
     "data": {
      "text/plain": [
       "(212146, 1000, 21, 1)"
      ]
     },
     "execution_count": 45,
     "metadata": {},
     "output_type": "execute_result"
    }
   ],
   "source": [
    "X.shape"
   ]
  },
  {
   "cell_type": "code",
   "execution_count": 46,
   "metadata": {},
   "outputs": [],
   "source": [
    "X=np.concatenate((X, X_2), axis=0)\n"
   ]
  },
  {
   "cell_type": "code",
   "execution_count": 47,
   "metadata": {},
   "outputs": [],
   "source": [
    "np.save('X.npy', X)"
   ]
  },
  {
   "cell_type": "code",
   "execution_count": 54,
   "metadata": {},
   "outputs": [],
   "source": [
    "X=[]"
   ]
  },
  {
   "cell_type": "code",
   "execution_count": 3,
   "metadata": {},
   "outputs": [],
   "source": [
    "y=np.concatenate((y_1, y_2), axis=0)\n",
    "np.save('y.npy', y)"
   ]
  },
  {
   "cell_type": "code",
   "execution_count": null,
   "metadata": {},
   "outputs": [],
   "source": []
  },
  {
   "cell_type": "code",
   "execution_count": 48,
   "metadata": {},
   "outputs": [],
   "source": [
    "import dask.array as da"
   ]
  },
  {
   "cell_type": "code",
   "execution_count": null,
   "metadata": {},
   "outputs": [],
   "source": []
  },
  {
   "cell_type": "code",
   "execution_count": 53,
   "metadata": {},
   "outputs": [
    {
     "ename": "FileNotFoundError",
     "evalue": "[Errno 2] No such file or directory: 'Ravi/CNN/batched/99/y_1.npy/info'",
     "output_type": "error",
     "traceback": [
      "\u001b[0;31m---------------------------------------------------------------------------\u001b[0m",
      "\u001b[0;31mFileNotFoundError\u001b[0m                         Traceback (most recent call last)",
      "\u001b[0;32m/tmp/ipykernel_556304/222057220.py\u001b[0m in \u001b[0;36m<module>\u001b[0;34m\u001b[0m\n\u001b[1;32m      3\u001b[0m \u001b[0;34m\u001b[0m\u001b[0m\n\u001b[1;32m      4\u001b[0m \u001b[0;32mwith\u001b[0m \u001b[0mdask\u001b[0m\u001b[0;34m.\u001b[0m\u001b[0mdiagnostics\u001b[0m\u001b[0;34m.\u001b[0m\u001b[0mProgressBar\u001b[0m\u001b[0;34m(\u001b[0m\u001b[0;34m)\u001b[0m\u001b[0;34m:\u001b[0m\u001b[0;34m\u001b[0m\u001b[0;34m\u001b[0m\u001b[0m\n\u001b[0;32m----> 5\u001b[0;31m     \u001b[0my_1\u001b[0m\u001b[0;34m=\u001b[0m\u001b[0mda\u001b[0m\u001b[0;34m.\u001b[0m\u001b[0mfrom_npy_stack\u001b[0m\u001b[0;34m(\u001b[0m\u001b[0;34m'Ravi/CNN/batched/99/y_1.npy'\u001b[0m\u001b[0;34m)\u001b[0m\u001b[0;34m\u001b[0m\u001b[0;34m\u001b[0m\u001b[0m\n\u001b[0m\u001b[1;32m      6\u001b[0m     \u001b[0my_2\u001b[0m\u001b[0;34m=\u001b[0m\u001b[0mda\u001b[0m\u001b[0;34m.\u001b[0m\u001b[0mfrom_npy_stack\u001b[0m\u001b[0;34m(\u001b[0m\u001b[0;34m'y_2.npy'\u001b[0m\u001b[0;34m)\u001b[0m\u001b[0;34m\u001b[0m\u001b[0;34m\u001b[0m\u001b[0m\n\u001b[1;32m      7\u001b[0m \u001b[0;34m\u001b[0m\u001b[0m\n",
      "\u001b[0;32m/opt/anaconda3/lib/python3.9/site-packages/dask/array/core.py\u001b[0m in \u001b[0;36mfrom_npy_stack\u001b[0;34m(dirname, mmap_mode)\u001b[0m\n\u001b[1;32m   5568\u001b[0m         \u001b[0mRead\u001b[0m \u001b[0mdata\u001b[0m \u001b[0;32min\u001b[0m \u001b[0mmemory\u001b[0m \u001b[0mmap\u001b[0m \u001b[0mmode\u001b[0m\u001b[0;34m\u001b[0m\u001b[0;34m\u001b[0m\u001b[0m\n\u001b[1;32m   5569\u001b[0m     \"\"\"\n\u001b[0;32m-> 5570\u001b[0;31m     \u001b[0;32mwith\u001b[0m \u001b[0mopen\u001b[0m\u001b[0;34m(\u001b[0m\u001b[0mos\u001b[0m\u001b[0;34m.\u001b[0m\u001b[0mpath\u001b[0m\u001b[0;34m.\u001b[0m\u001b[0mjoin\u001b[0m\u001b[0;34m(\u001b[0m\u001b[0mdirname\u001b[0m\u001b[0;34m,\u001b[0m \u001b[0;34m\"info\"\u001b[0m\u001b[0;34m)\u001b[0m\u001b[0;34m,\u001b[0m \u001b[0;34m\"rb\"\u001b[0m\u001b[0;34m)\u001b[0m \u001b[0;32mas\u001b[0m \u001b[0mf\u001b[0m\u001b[0;34m:\u001b[0m\u001b[0;34m\u001b[0m\u001b[0;34m\u001b[0m\u001b[0m\n\u001b[0m\u001b[1;32m   5571\u001b[0m         \u001b[0minfo\u001b[0m \u001b[0;34m=\u001b[0m \u001b[0mpickle\u001b[0m\u001b[0;34m.\u001b[0m\u001b[0mload\u001b[0m\u001b[0;34m(\u001b[0m\u001b[0mf\u001b[0m\u001b[0;34m)\u001b[0m\u001b[0;34m\u001b[0m\u001b[0;34m\u001b[0m\u001b[0m\n\u001b[1;32m   5572\u001b[0m \u001b[0;34m\u001b[0m\u001b[0m\n",
      "\u001b[0;31mFileNotFoundError\u001b[0m: [Errno 2] No such file or directory: 'Ravi/CNN/batched/99/y_1.npy/info'"
     ]
    }
   ],
   "source": [
    "#using dask\n",
    "import dask.diagnostics\n",
    "\n",
    "with dask.diagnostics.ProgressBar():\n",
    "    y_1=da.from_npy_stack('Ravi/CNN/batched/99/y_1.npy')\n",
    "    y_2=da.from_npy_stack('y_2.npy')\n",
    "    \n",
    "    y= da.concatenate([y_1,y_2], axis=0)\n",
    "    \n",
    "    da.to_npy_stack('y', y)"
   ]
  },
  {
   "cell_type": "code",
   "execution_count": 2,
   "metadata": {},
   "outputs": [],
   "source": [
    "X= np.lib.format.open_memmap('X.npy', mode='r', dtype='float32')\n",
    "y= np.lib.format.open_memmap('y.npy', mode='r', dtype='float32')\n"
   ]
  },
  {
   "cell_type": "code",
   "execution_count": 3,
   "metadata": {
    "id": "WN1PfPYixlTd"
   },
   "outputs": [
    {
     "name": "stdout",
     "output_type": "stream",
     "text": [
      "starting split\n",
      "train and validation split done\n"
     ]
    }
   ],
   "source": [
    "print('starting split')\n",
    "X_train, X_val, y_train, y_val = train_test_split(X, y, test_size=0.20, shuffle=True, random_state=11)\n",
    "print('train and validation split done')"
   ]
  },
  {
   "cell_type": "code",
   "execution_count": 4,
   "metadata": {},
   "outputs": [
    {
     "name": "stdout",
     "output_type": "stream",
     "text": [
      "saving split numpy files\n",
      "numpy files saved\n"
     ]
    }
   ],
   "source": [
    "print('saving split numpy files')\n",
    "np.save('X_train_11',X_train)\n",
    "np.save('y_train_11',y_train)\n",
    "np.save('X_val_11',X_val)\n",
    "np.save('y_val_11',y_val)\n",
    "\n",
    "print('numpy files saved')"
   ]
  },
  {
   "cell_type": "code",
   "execution_count": 5,
   "metadata": {},
   "outputs": [
    {
     "name": "stdout",
     "output_type": "stream",
     "text": [
      "clearing memory\n"
     ]
    }
   ],
   "source": [
    "X_train, X_val, y_train, y_val =[],[],[],[]\n",
    "print('clearing memory')"
   ]
  },
  {
   "cell_type": "code",
   "execution_count": null,
   "metadata": {
    "id": "Tr2_3iyKppkv"
   },
   "outputs": [],
   "source": [
    "print('Files for training ready')"
   ]
  },
  {
   "cell_type": "code",
   "execution_count": 7,
   "metadata": {
    "id": "B8uib7kOcg2J"
   },
   "outputs": [],
   "source": []
  },
  {
   "cell_type": "code",
   "execution_count": null,
   "metadata": {},
   "outputs": [],
   "source": []
  }
 ],
 "metadata": {
  "accelerator": "GPU",
  "colab": {
   "provenance": []
  },
  "gpuClass": "standard",
  "kernelspec": {
   "display_name": "Python 3 (ipykernel)",
   "language": "python",
   "name": "python3"
  },
  "language_info": {
   "codemirror_mode": {
    "name": "ipython",
    "version": 3
   },
   "file_extension": ".py",
   "mimetype": "text/x-python",
   "name": "python",
   "nbconvert_exporter": "python",
   "pygments_lexer": "ipython3",
   "version": "3.9.13"
  }
 },
 "nbformat": 4,
 "nbformat_minor": 1
}

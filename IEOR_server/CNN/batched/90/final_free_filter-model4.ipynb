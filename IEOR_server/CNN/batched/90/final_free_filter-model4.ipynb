{
 "cells": [
  {
   "cell_type": "code",
   "execution_count": 2,
   "metadata": {
    "id": "GhpFIvuhh2h1",
    "scrolled": true
   },
   "outputs": [
    {
     "name": "stderr",
     "output_type": "stream",
     "text": [
      "2023-04-09 14:05:37.749150: I tensorflow/tsl/cuda/cudart_stub.cc:28] Could not find cuda drivers on your machine, GPU will not be used.\n",
      "2023-04-09 14:05:38.516457: I tensorflow/tsl/cuda/cudart_stub.cc:28] Could not find cuda drivers on your machine, GPU will not be used.\n",
      "2023-04-09 14:05:44.798296: W tensorflow/compiler/tf2tensorrt/utils/py_utils.cc:38] TF-TRT Warning: Could not find TensorRT\n"
     ]
    }
   ],
   "source": [
    "from tensorflow.keras.models import load_model\n",
    "import numpy as np\n",
    "import pandas as pd\n",
    "import sys\n",
    "import os"
   ]
  },
  {
   "cell_type": "code",
   "execution_count": 3,
   "metadata": {},
   "outputs": [],
   "source": [
    "X_train=np.lib.format.open_memmap('X_train.npy', mode='r', dtype='float32')\n",
    "y_train=np.lib.format.open_memmap('y_train.npy', mode='r', dtype='float32')\n",
    "X_val=np.lib.format.open_memmap('X_val.npy', mode='r', dtype='float32')\n",
    "y_val=np.lib.format.open_memmap('y_val.npy', mode='r', dtype='float32')"
   ]
  },
  {
   "cell_type": "code",
   "execution_count": 11,
   "metadata": {},
   "outputs": [
    {
     "data": {
      "text/plain": [
       "{0: 1.0838614165267473, 1: 0.9281837999969078}"
      ]
     },
     "execution_count": 11,
     "metadata": {},
     "output_type": "execute_result"
    }
   ],
   "source": [
    "#using class weights to counter imbalance in data\n",
    "from sklearn.utils import class_weight\n",
    "df=pd.DataFrame(y_train)\n",
    "class_weights=class_weight.compute_class_weight(class_weight='balanced', classes= [0,1] ,y= df[1].to_list())\n",
    "class_weights=dict(zip([0,1],class_weights))\n",
    "class_weights\n",
    "#as there are more enzymes"
   ]
  },
  {
   "cell_type": "code",
   "execution_count": 10,
   "metadata": {},
   "outputs": [
    {
     "data": {
      "text/plain": [
       "110778"
      ]
     },
     "execution_count": 10,
     "metadata": {},
     "output_type": "execute_result"
    }
   ],
   "source": [
    "yy= df[1].to_list()\n",
    "yy.count(0)"
   ]
  },
  {
   "cell_type": "code",
   "execution_count": 12,
   "metadata": {
    "id": "eGTALnPhTWaf"
   },
   "outputs": [],
   "source": [
    "from tensorflow import keras\n",
    "import tensorflow as tf\n",
    "keras.backend.clear_session()\n"
   ]
  },
  {
   "cell_type": "code",
   "execution_count": 13,
   "metadata": {
    "id": "-er5jSYZxtaC"
   },
   "outputs": [],
   "source": [
    "from tensorflow.keras.layers import Input, Conv2D, MaxPooling2D, Flatten, Dense, BatchNormalization, Activation, Concatenate, Dropout\n",
    "from tensorflow.keras.models import Model\n",
    "\n",
    "input_layer = Input(shape=(1000, 21, 1))\n",
    "\n",
    "conv1 = Conv2D(filters=128, kernel_size=(4, 21), strides=(1, 1), padding='valid', activation='relu')(input_layer)\n",
    "conv2 = Conv2D(filters=128, kernel_size=(8, 21), strides=(1, 1), padding='valid', activation='relu')(input_layer)\n",
    "conv3 = Conv2D(filters=128, kernel_size=(16, 21), strides=(1, 1), padding='valid', activation='relu')(input_layer)\n",
    "#conv4 = Conv2D(filters=128, kernel_size=(32, 21), strides=(1, 1), padding='valid', activation='relu')(input_layer)\n",
    "\n",
    "pool1 = MaxPooling2D(pool_size=(997, 1))(conv1)\n",
    "pool2 = MaxPooling2D(pool_size=(993, 1))(conv2)\n",
    "pool3 = MaxPooling2D(pool_size=(985, 1))(conv3)\n",
    "#pool4 = MaxPooling2D(pool_size=(969, 1))(conv4)\n",
    "\n",
    "flatten1 = Flatten()(pool1)\n",
    "flatten2 = Flatten()(pool2)\n",
    "flatten3 = Flatten()(pool3)\n",
    "#flatten4 = Flatten()(pool4)\n",
    "\n",
    "bn1 = BatchNormalization()(flatten1)\n",
    "bn2 = BatchNormalization()(flatten2)\n",
    "bn3 = BatchNormalization()(flatten3)\n",
    "#bn4 = BatchNormalization()(flatten4)\n",
    "\n",
    "concat = Concatenate()([bn1, bn2, bn3])\n",
    "\n",
    "dense1 = Dense(512)(concat)\n",
    "bn5 = BatchNormalization()(dense1)\n",
    "act1 = Activation('relu')(bn5)\n",
    "dropout1= Dropout(0.3)(act1)\n",
    "\n",
    "dense2 = Dense(512)(dropout1)\n",
    "bn6 = BatchNormalization()(dense2)\n",
    "act2 = Activation('relu')(bn6)\n",
    "dropout2=Dropout(0.3)(act2)\n",
    "\n",
    "dense3 = Dense(512)(dropout2)\n",
    "#bn6 = BatchNormalization()(dense3)\n",
    "#act3 = Activation('relu')(bn6)\n",
    "#dropout3=Dropout(0.3)(act3)\n",
    "\n",
    "output_layer = Dense(2, activation='sigmoid')(dropout2)\n",
    "\n",
    "model = Model(inputs=input_layer, outputs=output_layer)\n"
   ]
  },
  {
   "cell_type": "code",
   "execution_count": 14,
   "metadata": {},
   "outputs": [],
   "source": [
    "from tensorflow.keras.layers import Input, Conv2D, MaxPooling2D, Flatten, Dense, BatchNormalization, Activation, Concatenate, Dropout\n",
    "from tensorflow.keras.models import Model\n",
    "\n",
    "input_layer = Input(shape=(1000, 21, 1))\n",
    "\n",
    "conv1 = Conv2D(filters=128, kernel_size=(4, 21), strides=(1, 1), padding='valid', activation='relu')(input_layer)\n",
    "conv2 = Conv2D(filters=128, kernel_size=(8, 21), strides=(1, 1), padding='valid', activation='relu')(input_layer)\n",
    "conv3 = Conv2D(filters=128, kernel_size=(16, 21), strides=(1, 1), padding='valid', activation='relu')(input_layer)\n",
    "\n",
    "pool1 = MaxPooling2D(pool_size=(997, 1))(conv1)\n",
    "pool2 = MaxPooling2D(pool_size=(993, 1))(conv2)\n",
    "pool3 = MaxPooling2D(pool_size=(985, 1))(conv3)\n",
    "\n",
    "flatten1 = Flatten()(pool1)\n",
    "flatten2 = Flatten()(pool2)\n",
    "flatten3 = Flatten()(pool3)\n",
    "\n",
    "bn1 = BatchNormalization()(flatten1)\n",
    "bn2 = BatchNormalization()(flatten2)\n",
    "bn3 = BatchNormalization()(flatten3)\n",
    "\n",
    "concat = Concatenate()([bn1, bn2, bn3])\n",
    "\n",
    "dense1 = Dense(512)(concat)\n",
    "bn4 = BatchNormalization()(dense1)\n",
    "act1 = Activation('relu')(bn4)\n",
    "#dropout1= Dropout(0.2)(act1)\n",
    "\n",
    "dense2 = Dense(512)(act1)\n",
    "bn5 = BatchNormalization()(dense2)\n",
    "act2 = Activation('relu')(bn5)\n",
    "#dropout2=Dropout(0.2)(act2)\n",
    "\n",
    "output_layer = Dense(2, activation='sigmoid')(act2)\n",
    "\n",
    "model = Model(inputs=input_layer, outputs=output_layer)"
   ]
  },
  {
   "cell_type": "code",
   "execution_count": 5,
   "metadata": {
    "colab": {
     "base_uri": "https://localhost:8080/"
    },
    "id": "6JaK9trOTdV-",
    "outputId": "550ff562-84db-4ef7-e650-23e085605788"
   },
   "outputs": [
    {
     "name": "stdout",
     "output_type": "stream",
     "text": [
      "Model: \"model\"\n",
      "__________________________________________________________________________________________________\n",
      " Layer (type)                   Output Shape         Param #     Connected to                     \n",
      "==================================================================================================\n",
      " input_1 (InputLayer)           [(None, 1000, 21, 1  0           []                               \n",
      "                                )]                                                                \n",
      "                                                                                                  \n",
      " conv2d (Conv2D)                (None, 997, 1, 128)  10880       ['input_1[0][0]']                \n",
      "                                                                                                  \n",
      " conv2d_1 (Conv2D)              (None, 993, 1, 128)  21632       ['input_1[0][0]']                \n",
      "                                                                                                  \n",
      " conv2d_2 (Conv2D)              (None, 985, 1, 128)  43136       ['input_1[0][0]']                \n",
      "                                                                                                  \n",
      " max_pooling2d (MaxPooling2D)   (None, 1, 1, 128)    0           ['conv2d[0][0]']                 \n",
      "                                                                                                  \n",
      " max_pooling2d_1 (MaxPooling2D)  (None, 1, 1, 128)   0           ['conv2d_1[0][0]']               \n",
      "                                                                                                  \n",
      " max_pooling2d_2 (MaxPooling2D)  (None, 1, 1, 128)   0           ['conv2d_2[0][0]']               \n",
      "                                                                                                  \n",
      " flatten (Flatten)              (None, 128)          0           ['max_pooling2d[0][0]']          \n",
      "                                                                                                  \n",
      " flatten_1 (Flatten)            (None, 128)          0           ['max_pooling2d_1[0][0]']        \n",
      "                                                                                                  \n",
      " flatten_2 (Flatten)            (None, 128)          0           ['max_pooling2d_2[0][0]']        \n",
      "                                                                                                  \n",
      " batch_normalization (BatchNorm  (None, 128)         512         ['flatten[0][0]']                \n",
      " alization)                                                                                       \n",
      "                                                                                                  \n",
      " batch_normalization_1 (BatchNo  (None, 128)         512         ['flatten_1[0][0]']              \n",
      " rmalization)                                                                                     \n",
      "                                                                                                  \n",
      " batch_normalization_2 (BatchNo  (None, 128)         512         ['flatten_2[0][0]']              \n",
      " rmalization)                                                                                     \n",
      "                                                                                                  \n",
      " concatenate (Concatenate)      (None, 384)          0           ['batch_normalization[0][0]',    \n",
      "                                                                  'batch_normalization_1[0][0]',  \n",
      "                                                                  'batch_normalization_2[0][0]']  \n",
      "                                                                                                  \n",
      " dense (Dense)                  (None, 512)          197120      ['concatenate[0][0]']            \n",
      "                                                                                                  \n",
      " batch_normalization_3 (BatchNo  (None, 512)         2048        ['dense[0][0]']                  \n",
      " rmalization)                                                                                     \n",
      "                                                                                                  \n",
      " activation (Activation)        (None, 512)          0           ['batch_normalization_3[0][0]']  \n",
      "                                                                                                  \n",
      " dense_1 (Dense)                (None, 512)          262656      ['activation[0][0]']             \n",
      "                                                                                                  \n",
      " batch_normalization_4 (BatchNo  (None, 512)         2048        ['dense_1[0][0]']                \n",
      " rmalization)                                                                                     \n",
      "                                                                                                  \n",
      " activation_1 (Activation)      (None, 512)          0           ['batch_normalization_4[0][0]']  \n",
      "                                                                                                  \n",
      " dense_2 (Dense)                (None, 2)            1026        ['activation_1[0][0]']           \n",
      "                                                                                                  \n",
      "==================================================================================================\n",
      "Total params: 542,082\n",
      "Trainable params: 539,266\n",
      "Non-trainable params: 2,816\n",
      "__________________________________________________________________________________________________\n"
     ]
    }
   ],
   "source": [
    "model.summary()"
   ]
  },
  {
   "cell_type": "code",
   "execution_count": 15,
   "metadata": {
    "colab": {
     "base_uri": "https://localhost:8080/"
    },
    "id": "BLfim2bmQVZ7",
    "outputId": "235731ed-0adf-4816-ef57-b5ebeae1dce8"
   },
   "outputs": [
    {
     "name": "stderr",
     "output_type": "stream",
     "text": [
      "2023-04-09 14:16:09.814218: W tensorflow/tsl/framework/cpu_allocator_impl.cc:83] Allocation of 20171424000 exceeds 10% of free system memory.\n"
     ]
    },
    {
     "name": "stdout",
     "output_type": "stream",
     "text": [
      "Epoch 1/40\n",
      "938/939 [============================>.] - ETA: 0s - loss: 0.3571 - binary_accuracy: 0.8459"
     ]
    },
    {
     "name": "stderr",
     "output_type": "stream",
     "text": [
      "2023-04-09 14:22:35.578423: W tensorflow/tsl/framework/cpu_allocator_impl.cc:83] Allocation of 5042856000 exceeds 10% of free system memory.\n"
     ]
    },
    {
     "name": "stdout",
     "output_type": "stream",
     "text": [
      "939/939 [==============================] - 392s 413ms/step - loss: 0.3571 - binary_accuracy: 0.8459 - val_loss: 0.3296 - val_binary_accuracy: 0.8640\n",
      "Epoch 2/40\n",
      "939/939 [==============================] - 425s 452ms/step - loss: 0.2583 - binary_accuracy: 0.8940 - val_loss: 0.2699 - val_binary_accuracy: 0.8902\n",
      "Epoch 3/40\n",
      "939/939 [==============================] - 462s 492ms/step - loss: 0.2108 - binary_accuracy: 0.9157 - val_loss: 0.2867 - val_binary_accuracy: 0.8836\n",
      "Epoch 4/40\n",
      "939/939 [==============================] - 478s 509ms/step - loss: 0.1824 - binary_accuracy: 0.9279 - val_loss: 0.2526 - val_binary_accuracy: 0.9000\n",
      "Epoch 5/40\n",
      "939/939 [==============================] - 480s 511ms/step - loss: 0.1606 - binary_accuracy: 0.9372 - val_loss: 0.2487 - val_binary_accuracy: 0.9066\n",
      "Epoch 6/40\n",
      "939/939 [==============================] - 498s 531ms/step - loss: 0.1389 - binary_accuracy: 0.9460 - val_loss: 0.2461 - val_binary_accuracy: 0.9079\n",
      "Epoch 7/40\n",
      "939/939 [==============================] - 473s 504ms/step - loss: 0.1205 - binary_accuracy: 0.9533 - val_loss: 0.2542 - val_binary_accuracy: 0.9067\n",
      "Epoch 8/40\n",
      "939/939 [==============================] - 442s 471ms/step - loss: 0.1056 - binary_accuracy: 0.9597 - val_loss: 0.2674 - val_binary_accuracy: 0.9080\n",
      "Epoch 9/40\n",
      "939/939 [==============================] - 446s 475ms/step - loss: 0.0995 - binary_accuracy: 0.9618 - val_loss: 0.2889 - val_binary_accuracy: 0.9047\n",
      "Epoch 10/40\n",
      "939/939 [==============================] - 464s 494ms/step - loss: 0.0863 - binary_accuracy: 0.9668 - val_loss: 0.2809 - val_binary_accuracy: 0.9077\n",
      "Epoch 11/40\n",
      "939/939 [==============================] - 468s 498ms/step - loss: 0.0718 - binary_accuracy: 0.9726 - val_loss: 0.3110 - val_binary_accuracy: 0.9088\n",
      "Epoch 12/40\n",
      "939/939 [==============================] - 460s 489ms/step - loss: 0.0736 - binary_accuracy: 0.9720 - val_loss: 0.3108 - val_binary_accuracy: 0.9080\n",
      "Epoch 13/40\n",
      "939/939 [==============================] - 465s 495ms/step - loss: 0.0680 - binary_accuracy: 0.9740 - val_loss: 0.3195 - val_binary_accuracy: 0.9096\n",
      "Epoch 14/40\n",
      "939/939 [==============================] - 458s 488ms/step - loss: 0.0487 - binary_accuracy: 0.9820 - val_loss: 0.3434 - val_binary_accuracy: 0.9083\n",
      "Epoch 15/40\n",
      "939/939 [==============================] - 445s 474ms/step - loss: 0.0484 - binary_accuracy: 0.9819 - val_loss: 0.3519 - val_binary_accuracy: 0.9068\n",
      "Epoch 16/40\n",
      "939/939 [==============================] - 446s 475ms/step - loss: 0.0563 - binary_accuracy: 0.9792 - val_loss: 0.3524 - val_binary_accuracy: 0.9080\n"
     ]
    }
   ],
   "source": [
    "#with batch size mentioned\n",
    "#with early stopping\n",
    "\n",
    "from tensorflow.keras.callbacks import EarlyStopping\n",
    "\n",
    "early_stopping = EarlyStopping(\n",
    "    min_delta=0.001, # minimium amount of change to count as an improvement\n",
    "    patience=10, # how many epochs to wait before stopping\n",
    "    restore_best_weights=True,\n",
    ")\n",
    "\n",
    "model.compile(\n",
    "    optimizer=tf.keras.optimizers.Adam(learning_rate=0.01),\n",
    "    loss='binary_crossentropy',\n",
    "    metrics=['binary_accuracy']\n",
    ")\n",
    "\n",
    "history = model.fit(\n",
    "    X_train, y_train,\n",
    "    validation_data=(X_val,y_val),\n",
    "    batch_size=256,\n",
    "    callbacks=[early_stopping],\n",
    "    epochs=40)"
   ]
  },
  {
   "cell_type": "code",
   "execution_count": 16,
   "metadata": {
    "colab": {
     "base_uri": "https://localhost:8080/",
     "height": 265
    },
    "id": "21O3WxMGRdXy",
    "outputId": "fa9fa491-c418-4764-85ac-830976d8a208"
   },
   "outputs": [
    {
     "data": {
      "image/png": "[encoded data removed]",
      "text/plain": [
       "<Figure size 640x480 with 1 Axes>"
      ]
     },
     "metadata": {},
     "output_type": "display_data"
    }
   ],
   "source": [
    "# Show the learning curves\n",
    "import matplotlib\n",
    "history_df = pd.DataFrame(history.history)\n",
    "history_df.loc[:, ['loss', 'val_loss']].plot();"
   ]
  },
  {
   "cell_type": "code",
   "execution_count": 17,
   "metadata": {
    "id": "Lq-3DTzfdKTV"
   },
   "outputs": [
    {
     "data": {
      "image/png": "[encoded data removed]",
      "text/plain": [
       "<Figure size 640x480 with 1 Axes>"
      ]
     },
     "metadata": {},
     "output_type": "display_data"
    }
   ],
   "source": [
    "history_df.loc[:, ['binary_accuracy', 'val_binary_accuracy']].plot();"
   ]
  },
  {
   "cell_type": "code",
   "execution_count": 18,
   "metadata": {
    "colab": {
     "base_uri": "https://localhost:8080/"
    },
    "id": "gEtiNB0-UHBB",
    "outputId": "26b07cb7-5b89-4814-cba5-07eb6ca4c126"
   },
   "outputs": [],
   "source": [
    "os.mkdir('model_08')"
   ]
  },
  {
   "cell_type": "code",
   "execution_count": 19,
   "metadata": {},
   "outputs": [],
   "source": [
    "#saving history\n",
    "history_df.to_csv('model_08/model_08.csv')"
   ]
  },
  {
   "cell_type": "code",
   "execution_count": 20,
   "metadata": {},
   "outputs": [],
   "source": [
    "from keras.models import model_from_json\n",
    "\n",
    "# Replace 'model' with the name of your trained model\n",
    "model_name = 'model_08/model_08'\n",
    "\n",
    "# Save the model architecture as a JSON file\n",
    "model_json = model.to_json()\n",
    "with open(model_name + '.json', 'w') as json_file:\n",
    "    json_file.write(model_json)\n",
    "\n",
    "# Save the model weights as an H5 file\n",
    "model.save_weights(model_name + '_weights.h5')\n",
    "\n",
    "#saving complete model\n",
    "model.save(model_name + '.h5')"
   ]
  },
  {
   "cell_type": "code",
   "execution_count": 21,
   "metadata": {
    "id": "B8uib7kOcg2J"
   },
   "outputs": [
    {
     "data": {
      "text/plain": [
       "(240136, 1000, 21, 1)"
      ]
     },
     "execution_count": 21,
     "metadata": {},
     "output_type": "execute_result"
    }
   ],
   "source": [
    "X_train.shape"
   ]
  },
  {
   "cell_type": "code",
   "execution_count": null,
   "metadata": {},
   "outputs": [],
   "source": [
    "np.unique(y_val[:,1], return_counts=True)"
   ]
  },
  {
   "cell_type": "code",
   "execution_count": null,
   "metadata": {},
   "outputs": [],
   "source": []
  }
 ],
 "metadata": {
  "accelerator": "GPU",
  "colab": {
   "provenance": []
  },
  "gpuClass": "standard",
  "kernelspec": {
   "display_name": "Python 3 (ipykernel)",
   "language": "python",
   "name": "python3"
  },
  "language_info": {
   "codemirror_mode": {
    "name": "ipython",
    "version": 3
   },
   "file_extension": ".py",
   "mimetype": "text/x-python",
   "name": "python",
   "nbconvert_exporter": "python",
   "pygments_lexer": "ipython3",
   "version": "3.9.13"
  }
 },
 "nbformat": 4,
 "nbformat_minor": 1
}

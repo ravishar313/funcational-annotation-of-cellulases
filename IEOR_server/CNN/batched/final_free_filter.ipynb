{
 "cells": [
  {
   "cell_type": "code",
   "execution_count": 4,
   "metadata": {
    "id": "GhpFIvuhh2h1",
    "scrolled": true
   },
   "outputs": [],
   "source": [
    "from tensorflow.keras.models import load_model\n",
    "import numpy as np\n",
    "import pandas as pd\n",
    "import sys\n",
    "import os\n",
    "import glob\n",
    "import shutil\n",
    "import logging\n",
    "import time\n",
    "import subprocess\n",
    "import copy"
   ]
  },
  {
   "cell_type": "code",
   "execution_count": 5,
   "metadata": {},
   "outputs": [],
   "source": [
    "X_train=np.load('X_train.npy')\n",
    "y_train=np.load('y_train.npy')\n",
    "X_val=np.load('X_val.npy')\n",
    "y_val=np.load('y_val.npy')"
   ]
  },
  {
   "cell_type": "code",
   "execution_count": 25,
   "metadata": {
    "id": "eGTALnPhTWaf"
   },
   "outputs": [],
   "source": [
    "from tensorflow import keras\n",
    "import tensorflow as tf\n",
    "keras.backend.clear_session()"
   ]
  },
  {
   "cell_type": "code",
   "execution_count": 36,
   "metadata": {
    "id": "vYhaJB81T5e-"
   },
   "outputs": [],
   "source": [
    "from tensorflow.keras import layers\n",
    "\n",
    "model=tf.keras.Sequential([\n",
    "    layers.Conv2D(filters=32, kernel_size=7, strides=(1, 1), input_shape=(1000,21,1), activation='relu'),\n",
    "    #layers.BatchNormalization(),\n",
    "\n",
    "    layers.Conv2D(filters=64, kernel_size=7, strides=(1, 1), input_shape=(1000,21,1), activation='relu'),\n",
    "    #layers.BatchNormalization(),\n",
    "    \n",
    "    layers.Conv2D(filters=128, kernel_size=7, strides=(1, 1), input_shape=(1000,21,1), activation='relu'),\n",
    "    layers.MaxPooling2D(),\n",
    "    layers.BatchNormalization(),\n",
    "    layers.Flatten(),\n",
    "\n",
    "    layers.Dense(64),\n",
    "    layers.BatchNormalization(),\n",
    "    layers.Activation('relu'),\n",
    "    layers.Dropout(0.2),\n",
    "\n",
    "    layers.Dense(128),\n",
    "    layers.BatchNormalization(),\n",
    "    layers.Activation('relu'),\n",
    "    layers.Dropout(0.2),\n",
    "\n",
    "    layers.Dense(256),\n",
    "    layers.BatchNormalization(),\n",
    "    layers.Activation('relu'),\n",
    "    layers.Dropout(0.2),\n",
    "\n",
    "    layers.Dense(2, activation='sigmoid'),\n",
    "\n",
    "])"
   ]
  },
  {
   "cell_type": "code",
   "execution_count": 26,
   "metadata": {
    "id": "-er5jSYZxtaC"
   },
   "outputs": [],
   "source": [
    "from tensorflow.keras.layers import Input, Conv2D, MaxPooling2D, Flatten, Dense, BatchNormalization, Activation, Concatenate, Dropout\n",
    "from tensorflow.keras.models import Model\n",
    "\n",
    "input_layer = Input(shape=(1000, 21, 1))\n",
    "\n",
    "conv1 = Conv2D(filters=128, kernel_size=(4, 21), strides=(1, 1), padding='valid', activation='relu')(input_layer)\n",
    "conv2 = Conv2D(filters=128, kernel_size=(8, 21), strides=(1, 1), padding='valid', activation='relu')(input_layer)\n",
    "conv3 = Conv2D(filters=128, kernel_size=(16, 21), strides=(1, 1), padding='valid', activation='relu')(input_layer)\n",
    "#conv4 = Conv2D(filters=128, kernel_size=(32, 21), strides=(1, 1), padding='valid', activation='relu')(input_layer)\n",
    "\n",
    "pool1 = MaxPooling2D(pool_size=(997, 1))(conv1)\n",
    "pool2 = MaxPooling2D(pool_size=(993, 1))(conv2)\n",
    "pool3 = MaxPooling2D(pool_size=(985, 1))(conv3)\n",
    "#pool4 = MaxPooling2D(pool_size=(969, 1))(conv4)\n",
    "\n",
    "flatten1 = Flatten()(pool1)\n",
    "flatten2 = Flatten()(pool2)\n",
    "flatten3 = Flatten()(pool3)\n",
    "#flatten4 = Flatten()(pool4)\n",
    "\n",
    "bn1 = BatchNormalization()(flatten1)\n",
    "bn2 = BatchNormalization()(flatten2)\n",
    "bn3 = BatchNormalization()(flatten3)\n",
    "#bn4 = BatchNormalization()(flatten4)\n",
    "\n",
    "concat = Concatenate()([bn1, bn2, bn3])\n",
    "\n",
    "dense1 = Dense(256)(concat)\n",
    "bn4 = BatchNormalization()(dense1)\n",
    "act1 = Activation('relu')(bn4)\n",
    "dropout1= Dropout(0.3)(act1)\n",
    "\n",
    "dense2 = Dense(256)(dropout1)\n",
    "bn5 = BatchNormalization()(dense2)\n",
    "act2 = Activation('relu')(bn5)\n",
    "dropout2=Dropout(0.3)(act2)\n",
    "\n",
    "dense3 = Dense(256)(dropout2)\n",
    "bn6 = BatchNormalization()(dense3)\n",
    "act3 = Activation('relu')(bn6)\n",
    "dropout3=Dropout(0.3)(act3)\n",
    "\n",
    "output_layer = Dense(2, activation='sigmoid')(dropout3)\n",
    "\n",
    "model = Model(inputs=input_layer, outputs=output_layer)\n"
   ]
  },
  {
   "cell_type": "code",
   "execution_count": 27,
   "metadata": {
    "colab": {
     "base_uri": "https://localhost:8080/"
    },
    "id": "6JaK9trOTdV-",
    "outputId": "550ff562-84db-4ef7-e650-23e085605788"
   },
   "outputs": [
    {
     "name": "stdout",
     "output_type": "stream",
     "text": [
      "Model: \"model\"\n",
      "__________________________________________________________________________________________________\n",
      " Layer (type)                   Output Shape         Param #     Connected to                     \n",
      "==================================================================================================\n",
      " input_1 (InputLayer)           [(None, 1000, 21, 1  0           []                               \n",
      "                                )]                                                                \n",
      "                                                                                                  \n",
      " conv2d (Conv2D)                (None, 997, 1, 128)  10880       ['input_1[0][0]']                \n",
      "                                                                                                  \n",
      " conv2d_1 (Conv2D)              (None, 993, 1, 128)  21632       ['input_1[0][0]']                \n",
      "                                                                                                  \n",
      " conv2d_2 (Conv2D)              (None, 985, 1, 128)  43136       ['input_1[0][0]']                \n",
      "                                                                                                  \n",
      " max_pooling2d (MaxPooling2D)   (None, 1, 1, 128)    0           ['conv2d[0][0]']                 \n",
      "                                                                                                  \n",
      " max_pooling2d_1 (MaxPooling2D)  (None, 1, 1, 128)   0           ['conv2d_1[0][0]']               \n",
      "                                                                                                  \n",
      " max_pooling2d_2 (MaxPooling2D)  (None, 1, 1, 128)   0           ['conv2d_2[0][0]']               \n",
      "                                                                                                  \n",
      " flatten (Flatten)              (None, 128)          0           ['max_pooling2d[0][0]']          \n",
      "                                                                                                  \n",
      " flatten_1 (Flatten)            (None, 128)          0           ['max_pooling2d_1[0][0]']        \n",
      "                                                                                                  \n",
      " flatten_2 (Flatten)            (None, 128)          0           ['max_pooling2d_2[0][0]']        \n",
      "                                                                                                  \n",
      " batch_normalization (BatchNorm  (None, 128)         512         ['flatten[0][0]']                \n",
      " alization)                                                                                       \n",
      "                                                                                                  \n",
      " batch_normalization_1 (BatchNo  (None, 128)         512         ['flatten_1[0][0]']              \n",
      " rmalization)                                                                                     \n",
      "                                                                                                  \n",
      " batch_normalization_2 (BatchNo  (None, 128)         512         ['flatten_2[0][0]']              \n",
      " rmalization)                                                                                     \n",
      "                                                                                                  \n",
      " concatenate (Concatenate)      (None, 384)          0           ['batch_normalization[0][0]',    \n",
      "                                                                  'batch_normalization_1[0][0]',  \n",
      "                                                                  'batch_normalization_2[0][0]']  \n",
      "                                                                                                  \n",
      " dense (Dense)                  (None, 256)          98560       ['concatenate[0][0]']            \n",
      "                                                                                                  \n",
      " batch_normalization_3 (BatchNo  (None, 256)         1024        ['dense[0][0]']                  \n",
      " rmalization)                                                                                     \n",
      "                                                                                                  \n",
      " activation (Activation)        (None, 256)          0           ['batch_normalization_3[0][0]']  \n",
      "                                                                                                  \n",
      " dropout (Dropout)              (None, 256)          0           ['activation[0][0]']             \n",
      "                                                                                                  \n",
      " dense_1 (Dense)                (None, 256)          65792       ['dropout[0][0]']                \n",
      "                                                                                                  \n",
      " batch_normalization_4 (BatchNo  (None, 256)         1024        ['dense_1[0][0]']                \n",
      " rmalization)                                                                                     \n",
      "                                                                                                  \n",
      " activation_1 (Activation)      (None, 256)          0           ['batch_normalization_4[0][0]']  \n",
      "                                                                                                  \n",
      " dropout_1 (Dropout)            (None, 256)          0           ['activation_1[0][0]']           \n",
      "                                                                                                  \n",
      " dense_2 (Dense)                (None, 256)          65792       ['dropout_1[0][0]']              \n",
      "                                                                                                  \n",
      " batch_normalization_5 (BatchNo  (None, 256)         1024        ['dense_2[0][0]']                \n",
      " rmalization)                                                                                     \n",
      "                                                                                                  \n",
      " activation_2 (Activation)      (None, 256)          0           ['batch_normalization_5[0][0]']  \n",
      "                                                                                                  \n",
      " dropout_2 (Dropout)            (None, 256)          0           ['activation_2[0][0]']           \n",
      "                                                                                                  \n",
      " dense_3 (Dense)                (None, 2)            514         ['dropout_2[0][0]']              \n",
      "                                                                                                  \n",
      "==================================================================================================\n",
      "Total params: 310,914\n",
      "Trainable params: 308,610\n",
      "Non-trainable params: 2,304\n",
      "__________________________________________________________________________________________________\n"
     ]
    }
   ],
   "source": [
    "model.summary()"
   ]
  },
  {
   "cell_type": "code",
   "execution_count": 28,
   "metadata": {
    "colab": {
     "base_uri": "https://localhost:8080/"
    },
    "id": "BLfim2bmQVZ7",
    "outputId": "235731ed-0adf-4816-ef57-b5ebeae1dce8"
   },
   "outputs": [
    {
     "name": "stderr",
     "output_type": "stream",
     "text": [
      "WARNING:absl:`lr` is deprecated in Keras optimizer, please use `learning_rate` or use the legacy optimizer, e.g.,tf.keras.optimizers.legacy.SGD.\n"
     ]
    },
    {
     "name": "stdout",
     "output_type": "stream",
     "text": [
      "Epoch 1/40\n"
     ]
    },
    {
     "name": "stderr",
     "output_type": "stream",
     "text": [
      "2023-04-05 16:55:39.643838: W tensorflow/tsl/framework/cpu_allocator_impl.cc:83] Allocation of 5453196000 exceeds 10% of free system memory.\n"
     ]
    },
    {
     "name": "stdout",
     "output_type": "stream",
     "text": [
      "507/508 [============================>.] - ETA: 0s - loss: 0.6107 - binary_accuracy: 0.6697"
     ]
    },
    {
     "name": "stderr",
     "output_type": "stream",
     "text": [
      "2023-04-05 16:57:11.992760: W tensorflow/tsl/framework/cpu_allocator_impl.cc:83] Allocation of 1363320000 exceeds 10% of free system memory.\n"
     ]
    },
    {
     "name": "stdout",
     "output_type": "stream",
     "text": [
      "508/508 [==============================] - 96s 186ms/step - loss: 0.6107 - binary_accuracy: 0.6697 - val_loss: 0.6431 - val_binary_accuracy: 0.6266\n",
      "Epoch 2/40\n",
      "508/508 [==============================] - 92s 182ms/step - loss: 0.5357 - binary_accuracy: 0.7294 - val_loss: 0.5132 - val_binary_accuracy: 0.7428\n",
      "Epoch 3/40\n",
      "508/508 [==============================] - 95s 188ms/step - loss: 0.4978 - binary_accuracy: 0.7579 - val_loss: 0.5078 - val_binary_accuracy: 0.7506\n",
      "Epoch 4/40\n",
      "508/508 [==============================] - 101s 199ms/step - loss: 0.4668 - binary_accuracy: 0.7790 - val_loss: 0.4974 - val_binary_accuracy: 0.7596\n",
      "Epoch 5/40\n",
      "508/508 [==============================] - 105s 207ms/step - loss: 0.4371 - binary_accuracy: 0.7975 - val_loss: 0.5021 - val_binary_accuracy: 0.7624\n",
      "Epoch 6/40\n",
      "508/508 [==============================] - 107s 211ms/step - loss: 0.4144 - binary_accuracy: 0.8109 - val_loss: 0.5107 - val_binary_accuracy: 0.7605\n",
      "Epoch 7/40\n",
      "508/508 [==============================] - 110s 216ms/step - loss: 0.3857 - binary_accuracy: 0.8261 - val_loss: 0.5070 - val_binary_accuracy: 0.7670\n",
      "Epoch 8/40\n",
      "508/508 [==============================] - 111s 219ms/step - loss: 0.3614 - binary_accuracy: 0.8395 - val_loss: 0.5449 - val_binary_accuracy: 0.7516\n",
      "Epoch 9/40\n",
      "508/508 [==============================] - 111s 219ms/step - loss: 0.3378 - binary_accuracy: 0.8530 - val_loss: 0.5394 - val_binary_accuracy: 0.7600\n",
      "Epoch 10/40\n",
      "508/508 [==============================] - 112s 221ms/step - loss: 0.3169 - binary_accuracy: 0.8634 - val_loss: 0.5639 - val_binary_accuracy: 0.7544\n",
      "Epoch 11/40\n",
      "508/508 [==============================] - 112s 221ms/step - loss: 0.2903 - binary_accuracy: 0.8766 - val_loss: 0.6031 - val_binary_accuracy: 0.7512\n",
      "Epoch 12/40\n",
      "508/508 [==============================] - 112s 221ms/step - loss: 0.2705 - binary_accuracy: 0.8862 - val_loss: 0.6322 - val_binary_accuracy: 0.7467\n",
      "Epoch 13/40\n",
      "508/508 [==============================] - 113s 223ms/step - loss: 0.2502 - binary_accuracy: 0.8964 - val_loss: 0.6440 - val_binary_accuracy: 0.7516\n",
      "Epoch 14/40\n",
      "508/508 [==============================] - 114s 224ms/step - loss: 0.2286 - binary_accuracy: 0.9062 - val_loss: 0.6842 - val_binary_accuracy: 0.7493\n"
     ]
    }
   ],
   "source": [
    "#with batch size mentioned\n",
    "#with early stopping\n",
    "\n",
    "from tensorflow.keras.callbacks import EarlyStopping\n",
    "\n",
    "early_stopping = EarlyStopping(\n",
    "    min_delta=0.001, # minimium amount of change to count as an improvement\n",
    "    patience=10, # how many epochs to wait before stopping\n",
    "    restore_best_weights=True,\n",
    ")\n",
    "\n",
    "model.compile(\n",
    "    optimizer=tf.keras.optimizers.SGD(lr=0.1),\n",
    "    loss='binary_crossentropy',\n",
    "    metrics=['binary_accuracy']\n",
    ")\n",
    "\n",
    "history = model.fit(\n",
    "    X_train, y_train,\n",
    "    validation_data=(X_val,y_val),\n",
    "    batch_size=128,\n",
    "    callbacks=[early_stopping],\n",
    "    epochs=40)"
   ]
  },
  {
   "cell_type": "code",
   "execution_count": 13,
   "metadata": {
    "colab": {
     "base_uri": "https://localhost:8080/",
     "height": 265
    },
    "id": "21O3WxMGRdXy",
    "outputId": "fa9fa491-c418-4764-85ac-830976d8a208"
   },
   "outputs": [
    {
     "name": "stderr",
     "output_type": "stream",
     "text": [
      "WARNING:matplotlib.font_manager:Matplotlib is building the font cache; this may take a moment.\n"
     ]
    },
    {
     "data": {
      "image/png": "[encoded data removed]",
      "text/plain": [
       "<Figure size 640x480 with 1 Axes>"
      ]
     },
     "metadata": {},
     "output_type": "display_data"
    }
   ],
   "source": [
    "# Show the learning curves\n",
    "import matplotlib\n",
    "history_df = pd.DataFrame(history.history)\n",
    "history_df.loc[:, ['loss', 'val_loss']].plot();"
   ]
  },
  {
   "cell_type": "code",
   "execution_count": 14,
   "metadata": {
    "id": "Lq-3DTzfdKTV"
   },
   "outputs": [
    {
     "data": {
      "image/png": "[encoded data removed]",
      "text/plain": [
       "<Figure size 640x480 with 1 Axes>"
      ]
     },
     "metadata": {},
     "output_type": "display_data"
    }
   ],
   "source": [
    "history_df.loc[:, ['binary_accuracy', 'val_binary_accuracy']].plot();"
   ]
  },
  {
   "cell_type": "code",
   "execution_count": null,
   "metadata": {
    "colab": {
     "base_uri": "https://localhost:8080/"
    },
    "id": "gEtiNB0-UHBB",
    "outputId": "26b07cb7-5b89-4814-cba5-07eb6ca4c126"
   },
   "outputs": [
    {
     "data": {
      "text/plain": [
       "<function torch.cuda.memory.empty_cache() -> None>"
      ]
     },
     "execution_count": 4,
     "metadata": {},
     "output_type": "execute_result"
    }
   ],
   "source": [
    "torch.cuda.empty_cache"
   ]
  },
  {
   "cell_type": "code",
   "execution_count": 16,
   "metadata": {
    "id": "B8uib7kOcg2J"
   },
   "outputs": [
    {
     "data": {
      "text/plain": [
       "(64919, 1000, 21, 1)"
      ]
     },
     "execution_count": 16,
     "metadata": {},
     "output_type": "execute_result"
    }
   ],
   "source": [
    "X_train.shape"
   ]
  },
  {
   "cell_type": "code",
   "execution_count": 21,
   "metadata": {},
   "outputs": [
    {
     "data": {
      "text/plain": [
       "(array([0., 1.]), array([9989, 6241]))"
      ]
     },
     "execution_count": 21,
     "metadata": {},
     "output_type": "execute_result"
    }
   ],
   "source": [
    "np.unique(y_val[:,1], return_counts=True)"
   ]
  },
  {
   "cell_type": "code",
   "execution_count": null,
   "metadata": {},
   "outputs": [],
   "source": []
  }
 ],
 "metadata": {
  "accelerator": "GPU",
  "colab": {
   "provenance": []
  },
  "gpuClass": "standard",
  "kernelspec": {
   "display_name": "Python 3 (ipykernel)",
   "language": "python",
   "name": "python3"
  },
  "language_info": {
   "codemirror_mode": {
    "name": "ipython",
    "version": 3
   },
   "file_extension": ".py",
   "mimetype": "text/x-python",
   "name": "python",
   "nbconvert_exporter": "python",
   "pygments_lexer": "ipython3",
   "version": "3.9.13"
  }
 },
 "nbformat": 4,
 "nbformat_minor": 1
}

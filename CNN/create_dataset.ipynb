{
 "cells": [
  {
   "cell_type": "code",
   "execution_count": 26,
   "metadata": {
    "id": "GhpFIvuhh2h1",
    "scrolled": true
   },
   "outputs": [],
   "source": [
    "from Bio import SeqIO\n",
    "from tensorflow.keras.models import load_model\n",
    "import numpy as np\n",
    "import pandas as pd"
   ]
  },
  {
   "cell_type": "code",
   "execution_count": null,
   "metadata": {},
   "outputs": [],
   "source": [
    "print('Libraries loaded successfully')"
   ]
  },
  {
   "cell_type": "code",
   "execution_count": 27,
   "metadata": {
    "id": "UmKrPkVlh4uk"
   },
   "outputs": [],
   "source": [
    "def preprocessing(fasta_file, temp_file):\n",
    "    l = 1000\n",
    "    fp = open(temp_file, 'w')\n",
    "    input_handle = open(fasta_file, \"r\")\n",
    "    for seq_record in SeqIO.parse(input_handle, \"fasta\"):   \n",
    "        seq_id = seq_record.id\n",
    "        seq = seq_record.seq\n",
    "        if len(seq) <= 1000:\n",
    "            fp.write('>%s\\n'%(seq_id))\n",
    "            fp.write('%s\\n'%(seq.strip()))\n",
    "        else:\n",
    "            for i in range(0, len(seq)-l+1, 100):\n",
    "                new_seq_id = '%s_SEPARATED_SEQUENCE_(%s_%s)' % (seq_id, i+1, i+l+1)\n",
    "                new_seq = seq[i:i+l]\n",
    "                fp.write('>%s\\n'%(new_seq_id))\n",
    "                fp.write('%s\\n'%(new_seq))\n",
    "    \n",
    "    input_handle.close()\n",
    "    fp.close()\n",
    "    return "
   ]
  },
  {
   "cell_type": "code",
   "execution_count": 28,
   "metadata": {
    "id": "D-2lrZOhh86B"
   },
   "outputs": [],
   "source": [
    "def fill_aa(seq):\n",
    "    fill_aa_cnt = 1000 - len(seq)\n",
    "    add_aa_seq = '_' * fill_aa_cnt\n",
    "    new_seq = seq + add_aa_seq\n",
    "    return new_seq"
   ]
  },
  {
   "cell_type": "code",
   "execution_count": 29,
   "metadata": {
    "id": "d6nPqrK8in7x"
   },
   "outputs": [],
   "source": [
    "def score_info():\n",
    "    aa_list = ['A', 'C', 'D', 'E', 'F', 'G', 'H', 'I', 'K', 'L', 'M', 'N', 'P', 'Q', 'R', 'S', 'T', 'V', 'W', 'Y', 'X', '_']\n",
    "    aa_score_info = {}\n",
    "    for aa in aa_list:\n",
    "        for aa2 in aa_list:\n",
    "            if aa == aa2:\n",
    "                aa_score_info[(aa, aa2)] = 1.0\n",
    "                aa_score_info[(aa2, aa)] = 1.0\n",
    "            else:\n",
    "                aa_score_info[(aa, aa2)] = 0.0\n",
    "                aa_score_info[(aa2, aa)] = 0.0\n",
    "    return aa_score_info"
   ]
  },
  {
   "cell_type": "code",
   "execution_count": 30,
   "metadata": {
    "id": "ezxwwZ8biqaE"
   },
   "outputs": [],
   "source": [
    "def one_hot_encoding(seq, aa_score_info):\n",
    "    data = np.zeros((1000, 21), dtype=np.float32)\n",
    "    aa_list = ['A', 'C', 'D', 'E', 'F', 'G', 'H', 'I', 'K', 'L', 'M', 'N', 'P', 'Q', 'R', 'S', 'T', 'V', 'W', 'Y', 'X']\n",
    "    for i, aa in enumerate(seq):\n",
    "        for j, aa2 in enumerate(aa_list):\n",
    "            data[i, j] = aa_score_info[aa, aa2]\n",
    "    return data"
   ]
  },
  {
   "cell_type": "code",
   "execution_count": 31,
   "metadata": {
    "id": "dB0PZ8zdiuba"
   },
   "outputs": [],
   "source": [
    "def run_one_hot_encoding(fasta_file, temp_file):\n",
    "    aa_score_info = score_info()\n",
    "    fp = open(temp_file, 'w')\n",
    "    feature_names = ['Feature%s'%(i) for i in range(1, 21001)] \n",
    "    \n",
    "    fp.write('%s\\n'%(','.join(['ID']+feature_names)))\n",
    "    \n",
    "    input_handle = open(fasta_file, \"r\")\n",
    "    for seq_record in SeqIO.parse(input_handle, \"fasta\"):   \n",
    "        try:\n",
    "            seq_id = seq_record.id\n",
    "            seq = seq_record.seq\n",
    "            if len(seq) >= 10 and len(seq) <= 1000:\n",
    "                if len(seq) < 1000:\n",
    "                    seq = fill_aa(seq)\n",
    "                encoded_vector = one_hot_encoding(seq, aa_score_info)\n",
    "                flatten_encoded_vector = encoded_vector.flatten()\n",
    "                flatten_encoded_vector_str = [str(each_val) for each_val in flatten_encoded_vector]\n",
    "                fp.write('%s\\n'%(','.join([seq_id]+flatten_encoded_vector_str)))\n",
    "        except:\n",
    "            pass\n",
    "    input_handle.close()\n",
    "    fp.close()"
   ]
  },
  {
   "cell_type": "code",
   "execution_count": 32,
   "metadata": {
    "id": "H9F5g2WFi5hv"
   },
   "outputs": [],
   "source": [
    "def create_df(df):\n",
    "    seq_ids = list(df.index)\n",
    "    X_temp = df.values\n",
    "    new_X = []\n",
    "    for i in range(len(X_temp)):\n",
    "        temp = np.reshape(X_temp[i], (1000, 21))\n",
    "        new_X.append(temp)\n",
    "    \n",
    "    X = np.asarray(new_X)\n",
    "    X = X.reshape(X.shape[0], 1000, 21, 1)\n",
    "    return X"
   ]
  },
  {
   "cell_type": "code",
   "execution_count": 33,
   "metadata": {
    "id": "xXOwj-7UkULc"
   },
   "outputs": [],
   "source": [
    "#creating dataset\n",
    "def create_dataset(fasta, val):\n",
    "  preprocessing(fasta, 'tmp.txt')\n",
    "  run_one_hot_encoding('tmp.txt', 'tmp2.txt')\n",
    "  temp_df = pd.read_csv('tmp2.txt', index_col=0)\n",
    "  dff=create_df(temp_df)\n",
    "  X=dff\n",
    "  y=np.full(len(temp_df.index), val)\n",
    "  return X, y"
   ]
  },
  {
   "cell_type": "code",
   "execution_count": null,
   "metadata": {},
   "outputs": [],
   "source": [
    "print('functions defined')"
   ]
  },
  {
   "cell_type": "code",
   "execution_count": null,
   "metadata": {
    "id": "UxyQXjvMlhcw"
   },
   "outputs": [],
   "source": [
    "X_non_enzyme, y_non_enzyme=create_dataset('non_enzyme_40.fasta',0)\n",
    "print('non enzyme dataset loaded')"
   ]
  },
  {
   "cell_type": "code",
   "execution_count": null,
   "metadata": {},
   "outputs": [],
   "source": [
    "!rm tmp.txt"
   ]
  },
  {
   "cell_type": "code",
   "execution_count": null,
   "metadata": {},
   "outputs": [],
   "source": [
    "!rm tmp2.txt"
   ]
  },
  {
   "cell_type": "code",
   "execution_count": 1,
   "metadata": {
    "id": "OWOt9pB5mP6H"
   },
   "outputs": [
    {
     "ename": "NameError",
     "evalue": "name 'create_dataset' is not defined",
     "output_type": "error",
     "traceback": [
      "\u001b[0;31m---------------------------------------------------------------------------\u001b[0m",
      "\u001b[0;31mNameError\u001b[0m                                 Traceback (most recent call last)",
      "Cell \u001b[0;32mIn[1], line 1\u001b[0m\n\u001b[0;32m----> 1\u001b[0m X_enzyme, y_enzyme\u001b[38;5;241m=\u001b[39m\u001b[43mcreate_dataset\u001b[49m(\u001b[38;5;124m'\u001b[39m\u001b[38;5;124menzyme_40.fasta\u001b[39m\u001b[38;5;124m'\u001b[39m,\u001b[38;5;241m1\u001b[39m)\n",
      "\u001b[0;31mNameError\u001b[0m: name 'create_dataset' is not defined"
     ]
    }
   ],
   "source": [
    "X_enzyme, y_enzyme=create_dataset('enzyme_40.fasta',1)\n",
    "print('enzyme dataset loaded')"
   ]
  },
  {
   "cell_type": "code",
   "execution_count": null,
   "metadata": {},
   "outputs": [],
   "source": [
    "!rm tmp.txt"
   ]
  },
  {
   "cell_type": "code",
   "execution_count": null,
   "metadata": {},
   "outputs": [],
   "source": [
    "!rm tmp2.txt"
   ]
  },
  {
   "cell_type": "code",
   "execution_count": 14,
   "metadata": {
    "colab": {
     "base_uri": "https://localhost:8080/"
    },
    "id": "3YxIhNkVxVWR",
    "outputId": "ee619f00-9bb3-428f-cd4b-f3be95d5c625"
   },
   "outputs": [
    {
     "data": {
      "text/plain": [
       "(11247, 1000, 21, 1)"
      ]
     },
     "execution_count": 14,
     "metadata": {},
     "output_type": "execute_result"
    }
   ],
   "source": [
    "X=np.concatenate((X_enzyme, X_non_enzyme), axis=0)\n",
    "print('concatenated: shape of X:', X.shape)"
   ]
  },
  {
   "cell_type": "code",
   "execution_count": 15,
   "metadata": {
    "colab": {
     "base_uri": "https://localhost:8080/"
    },
    "id": "Z96zcikyxhB2",
    "outputId": "6f9a7c99-df00-4c96-f4cc-1bea6527354b"
   },
   "outputs": [
    {
     "data": {
      "text/plain": [
       "(11247,)"
      ]
     },
     "execution_count": 15,
     "metadata": {},
     "output_type": "execute_result"
    }
   ],
   "source": [
    "y=np.concatenate((y_enzyme, y_non_enzyme), axis=0)\n",
    "print('concatenated: shape of y:',y.shape)"
   ]
  },
  {
   "cell_type": "code",
   "execution_count": 17,
   "metadata": {},
   "outputs": [],
   "source": [
    "from tensorflow.keras.utils import to_categorical\n",
    "y = to_categorical(y, 2)\n",
    "#np.save('X',X)\n",
    "#np.save('y',y)"
   ]
  },
  {
   "cell_type": "code",
   "execution_count": 21,
   "metadata": {
    "id": "iPE6BLyPYNuJ"
   },
   "outputs": [],
   "source": [
    "#setting old varibales zero to save memory\n",
    "X_enzyme, X_non_enzyme,y_enzyme, y_non_enzyme=[],[],[],[]\n",
    "print('memory cleared')"
   ]
  },
  {
   "cell_type": "code",
   "execution_count": 6,
   "metadata": {
    "id": "dmprMgvDxiuW"
   },
   "outputs": [],
   "source": [
    "from sklearn.model_selection import train_test_split"
   ]
  },
  {
   "cell_type": "code",
   "execution_count": 14,
   "metadata": {
    "id": "WN1PfPYixlTd"
   },
   "outputs": [],
   "source": [
    "X_train, X_val, y_train, y_val = train_test_split(X, y, test_size=0.20, shuffle=True, random_state=10)\n",
    "print('train and validation split done')"
   ]
  },
  {
   "cell_type": "code",
   "execution_count": 15,
   "metadata": {},
   "outputs": [],
   "source": [
    "np.save('X_train',X_train)\n",
    "np.save('y_train',y_train)\n",
    "np.save('X_val',X_val)\n",
    "np.save('y_val',y_val)\n",
    "\n",
    "print('numpy files saved')"
   ]
  },
  {
   "cell_type": "code",
   "execution_count": 24,
   "metadata": {
    "id": "Tr2_3iyKppkv"
   },
   "outputs": [],
   "source": [
    "#setting X, y to zero to save memory\n",
    "X,y=[],[]\n",
    "\n",
    "print('clearing memory')\n",
    "\n",
    "print('Files for training ready')"
   ]
  },
  {
   "cell_type": "code",
   "execution_count": null,
   "metadata": {
    "id": "B8uib7kOcg2J"
   },
   "outputs": [],
   "source": []
  }
 ],
 "metadata": {
  "accelerator": "GPU",
  "colab": {
   "provenance": []
  },
  "gpuClass": "standard",
  "kernelspec": {
   "display_name": "Python 3 (ipykernel)",
   "language": "python",
   "name": "python3"
  },
  "language_info": {
   "codemirror_mode": {
    "name": "ipython",
    "version": 3
   },
   "file_extension": ".py",
   "mimetype": "text/x-python",
   "name": "python",
   "nbconvert_exporter": "python",
   "pygments_lexer": "ipython3",
   "version": "3.8.10"
  }
 },
 "nbformat": 4,
 "nbformat_minor": 1
}

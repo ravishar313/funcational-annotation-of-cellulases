{
 "cells": [
  {
   "cell_type": "code",
   "execution_count": 6,
   "metadata": {
    "id": "GhpFIvuhh2h1",
    "scrolled": true
   },
   "outputs": [],
   "source": [
    "import os\n",
    "import numpy as np\n",
    "import pandas as pd\n",
    "import tqdm"
   ]
  },
  {
   "cell_type": "code",
   "execution_count": 6,
   "metadata": {},
   "outputs": [
    {
     "name": "stdout",
     "output_type": "stream",
     "text": [
      "Libraries loaded successfully\n"
     ]
    }
   ],
   "source": [
    "print('Libraries loaded successfully')"
   ]
  },
  {
   "cell_type": "code",
   "execution_count": 7,
   "metadata": {
    "id": "UmKrPkVlh4uk"
   },
   "outputs": [],
   "source": [
    "def preprocessing(fasta_file, temp_file):\n",
    "    l = 1000\n",
    "    fp = open(temp_file, 'w')\n",
    "    \n",
    "    with open (fasta_file, 'r') as file:\n",
    "        seq=[]\n",
    "        seq_id=[]\n",
    "        for line in file:\n",
    "            if line.startswith('>'):\n",
    "                seq_id.append(line.strip('>').strip('\\n'))\n",
    "            else:\n",
    "                seq.append(line.strip('\\n'))\n",
    "            \n",
    "    for j, sq in enumerate(seq):   \n",
    "        if len(sq) <= 1000:\n",
    "            fp.write('>%s\\n'%(seq_id[j]))\n",
    "            fp.write('%s\\n'%(seq[j]))\n",
    "        else:\n",
    "            for i in range(0, len(seq)-l+1, 100):\n",
    "                new_seq_id = '%s_SEPARATED_SEQUENCE_(%s_%s)' % (seq_id[j], i+1, i+l+1)\n",
    "                new_seq = sq[i:i+l]\n",
    "                fp.write('>%s\\n'%(new_seq_id))\n",
    "                fp.write('%s\\n'%(new_seq))\n",
    "    \n",
    "    #input_handle.close()\n",
    "    fp.close()\n",
    "    return "
   ]
  },
  {
   "cell_type": "code",
   "execution_count": 8,
   "metadata": {
    "id": "D-2lrZOhh86B"
   },
   "outputs": [],
   "source": [
    "def fill_aa(seq):\n",
    "    fill_aa_cnt = 1000 - len(seq)\n",
    "    add_aa_seq = '_' * fill_aa_cnt\n",
    "    new_seq = seq + add_aa_seq\n",
    "    return new_seq"
   ]
  },
  {
   "cell_type": "code",
   "execution_count": 9,
   "metadata": {
    "id": "d6nPqrK8in7x"
   },
   "outputs": [],
   "source": [
    "def score_info():\n",
    "    aa_list = ['A', 'C', 'D', 'E', 'F', 'G', 'H', 'I', 'K', 'L', 'M', 'N', 'P', 'Q', 'R', 'S', 'T', 'V', 'W', 'Y', 'X', '_']\n",
    "    aa_score_info = {}\n",
    "    for aa in aa_list:\n",
    "        for aa2 in aa_list:\n",
    "            if aa == aa2:\n",
    "                aa_score_info[(aa, aa2)] = 1.0\n",
    "                aa_score_info[(aa2, aa)] = 1.0\n",
    "            else:\n",
    "                aa_score_info[(aa, aa2)] = 0.0\n",
    "                aa_score_info[(aa2, aa)] = 0.0\n",
    "    return aa_score_info"
   ]
  },
  {
   "cell_type": "code",
   "execution_count": 10,
   "metadata": {
    "id": "ezxwwZ8biqaE"
   },
   "outputs": [],
   "source": [
    "def one_hot_encoding(seq, aa_score_info):\n",
    "    data = np.zeros((1000, 21), dtype=np.float32)\n",
    "    aa_list = ['A', 'C', 'D', 'E', 'F', 'G', 'H', 'I', 'K', 'L', 'M', 'N', 'P', 'Q', 'R', 'S', 'T', 'V', 'W', 'Y', 'X']\n",
    "    for i, aa in enumerate(seq):\n",
    "        for j, aa2 in enumerate(aa_list):\n",
    "            data[i, j] = aa_score_info[aa, aa2]\n",
    "    return data"
   ]
  },
  {
   "cell_type": "code",
   "execution_count": 1,
   "metadata": {},
   "outputs": [],
   "source": [
    "def create_new_file(file):\n",
    "    global counter\n",
    "    counter += 1\n",
    "    filename = f\"{file}_{counter}.txt\"\n",
    "    return open(filename, 'w')\n"
   ]
  },
  {
   "cell_type": "code",
   "execution_count": 11,
   "metadata": {
    "id": "dB0PZ8zdiuba"
   },
   "outputs": [],
   "source": [
    "def run_one_hot_encoding(fasta_file2, temp_file):\n",
    "    aa_score_info = score_info()\n",
    "    \n",
    "    fp = create_new_file(temp_file)\n",
    "    \n",
    "    feature_names = ['Feature%s'%(i) for i in range(1, 21001)] \n",
    "    \n",
    "    fp.write('%s\\n'%(','.join(['ID']+feature_names)))\n",
    "    \n",
    "    with open (fasta_file2, 'r') as file:\n",
    "        seq=[]\n",
    "        seq_id=[]\n",
    "        for line in file:\n",
    "            if line.startswith('>'):\n",
    "                seq_id.append(line.strip('>').strip('\\n'))\n",
    "            else:\n",
    "                seq.append(line.strip('\\n'))\n",
    "                \n",
    "                \n",
    "    for j, sq in enumerate(seq):\n",
    "        try:\n",
    "            if len(sq) >= 10 and len(sq) <= 1000:\n",
    "                if len(sq) < 1000:\n",
    "                    sq = fill_aa(sq)\n",
    "                encoded_vector = one_hot_encoding(sq, aa_score_info)\n",
    "                flatten_encoded_vector = encoded_vector.flatten()\n",
    "                flatten_encoded_vector_str = [str(each_val) for each_val in flatten_encoded_vector]\n",
    "                fp.write('%s\\n'%(','.join([seq_id[j]]+flatten_encoded_vector_str)))\n",
    "                \n",
    "                # Check if the current iteration is a multiple of 1000\n",
    "                if (j + 1) % 1000 == 0:\n",
    "                    # If it is, close the current file and create a new one\n",
    "                    fp.close()\n",
    "                    fp = create_new_file(temp_file)\n",
    "                    fp.write('%s\\n'%(','.join(['ID']+feature_names)))\n",
    "            else:\n",
    "                pass\n",
    "        except:\n",
    "            pass\n",
    "    fp.close()"
   ]
  },
  {
   "cell_type": "code",
   "execution_count": 30,
   "metadata": {},
   "outputs": [
    {
     "data": {
      "text/plain": [
       "[0, 1, 2, 3, 4, 5, 6, 7, 8, 9]"
      ]
     },
     "execution_count": 30,
     "metadata": {},
     "output_type": "execute_result"
    }
   ],
   "source": [
    "x=list(range(10))\n",
    "x"
   ]
  },
  {
   "cell_type": "code",
   "execution_count": 2,
   "metadata": {
    "id": "H9F5g2WFi5hv"
   },
   "outputs": [],
   "source": [
    "def create_df(df):\n",
    "    seq_ids = list(df.index)\n",
    "    X_temp = df.values\n",
    "    new_X = []\n",
    "    for i in tqdm(list(range(len(X_temp)))):\n",
    "        temp = np.reshape(X_temp[i], (1000, 21))\n",
    "        new_X.append(temp)\n",
    "    \n",
    "    X = np.asarray(new_X)\n",
    "    X = X.reshape(X.shape[0], 1000, 21, 1)\n",
    "    print('numpy array created')\n",
    "    return X"
   ]
  },
  {
   "cell_type": "code",
   "execution_count": 3,
   "metadata": {
    "id": "xXOwj-7UkULc"
   },
   "outputs": [],
   "source": [
    "#creating dataset\n",
    "def create_dataset(fasta, tmp_file):\n",
    "    preprocessing(fasta, 'tmp.txt')\n",
    "    print('preprocessing done')\n",
    "    run_one_hot_encoding('tmp.txt', tmp_file)\n",
    "    print('one hot encoding done')\n",
    "    return"
   ]
  },
  {
   "cell_type": "code",
   "execution_count": 4,
   "metadata": {},
   "outputs": [],
   "source": [
    "def create_array(temp_file, val):\n",
    "    temp_df = pd.read_csv(temp_file, index_col=0)\n",
    "    print('temp df loaded')\n",
    "    X=create_df(temp_df)\n",
    "    print('X created')\n",
    "    y=np.full(len(temp_df.index), val)\n",
    "    print('y created')"
   ]
  },
  {
   "cell_type": "code",
   "execution_count": 15,
   "metadata": {},
   "outputs": [
    {
     "name": "stdout",
     "output_type": "stream",
     "text": [
      "functions defined\n"
     ]
    }
   ],
   "source": [
    "print('functions defined')"
   ]
  },
  {
   "cell_type": "code",
   "execution_count": 16,
   "metadata": {},
   "outputs": [
    {
     "name": "stdout",
     "output_type": "stream",
     "text": [
      "preprocessing done\n",
      "one hot encoding done\n",
      "non enzyme dataset loaded\n"
     ]
    }
   ],
   "source": [
    "create_dataset('non_enzyme_40.fasta', 'tmp_non_enz.txt')\n",
    "print('non enzyme dataset loaded')"
   ]
  },
  {
   "cell_type": "code",
   "execution_count": 23,
   "metadata": {},
   "outputs": [
    {
     "name": "stdout",
     "output_type": "stream",
     "text": [
      "removed tmp seq file\n"
     ]
    }
   ],
   "source": [
    "os.remove('tmp.txt')\n",
    "print('removed tmp seq file')"
   ]
  },
  {
   "cell_type": "code",
   "execution_count": 24,
   "metadata": {},
   "outputs": [
    {
     "name": "stdout",
     "output_type": "stream",
     "text": [
      "preprocessing done\n",
      "one hot encoding done\n",
      "enzyme dataset loaded\n"
     ]
    }
   ],
   "source": [
    "create_dataset('enzyme_40.fasta', 'tmp_enz.txt')\n",
    "print('enzyme dataset loaded')"
   ]
  },
  {
   "cell_type": "code",
   "execution_count": 25,
   "metadata": {},
   "outputs": [
    {
     "name": "stdout",
     "output_type": "stream",
     "text": [
      "removed tmp seq file\n"
     ]
    }
   ],
   "source": [
    "os.remove('tmp.txt')\n",
    "print('removed tmp seq file')"
   ]
  },
  {
   "cell_type": "code",
   "execution_count": null,
   "metadata": {
    "id": "UxyQXjvMlhcw"
   },
   "outputs": [],
   "source": [
    "X_non_enzyme, y_non_enzyme=create_array('tmp_non_enz.txt',0)\n",
    "print('non enzyme dataset loaded')"
   ]
  },
  {
   "cell_type": "code",
   "execution_count": null,
   "metadata": {},
   "outputs": [],
   "source": [
    "#os.remove('tmp_non_enz.txt')"
   ]
  },
  {
   "cell_type": "code",
   "execution_count": 1,
   "metadata": {
    "id": "OWOt9pB5mP6H"
   },
   "outputs": [
    {
     "ename": "NameError",
     "evalue": "name 'create_dataset' is not defined",
     "output_type": "error",
     "traceback": [
      "\u001b[0;31m---------------------------------------------------------------------------\u001b[0m",
      "\u001b[0;31mNameError\u001b[0m                                 Traceback (most recent call last)",
      "Cell \u001b[0;32mIn[1], line 1\u001b[0m\n\u001b[0;32m----> 1\u001b[0m X_enzyme, y_enzyme\u001b[38;5;241m=\u001b[39m\u001b[43mcreate_dataset\u001b[49m(\u001b[38;5;124m'\u001b[39m\u001b[38;5;124menzyme_40.fasta\u001b[39m\u001b[38;5;124m'\u001b[39m,\u001b[38;5;241m1\u001b[39m)\n",
      "\u001b[0;31mNameError\u001b[0m: name 'create_dataset' is not defined"
     ]
    }
   ],
   "source": [
    "X_enzyme, y_enzyme=create_array('tmp_enz.txt',1)\n",
    "print('enzyme dataset loaded')"
   ]
  },
  {
   "cell_type": "code",
   "execution_count": 14,
   "metadata": {
    "colab": {
     "base_uri": "https://localhost:8080/"
    },
    "id": "3YxIhNkVxVWR",
    "outputId": "ee619f00-9bb3-428f-cd4b-f3be95d5c625"
   },
   "outputs": [
    {
     "data": {
      "text/plain": [
       "(11247, 1000, 21, 1)"
      ]
     },
     "execution_count": 14,
     "metadata": {},
     "output_type": "execute_result"
    }
   ],
   "source": [
    "X=np.concatenate((X_enzyme, X_non_enzyme), axis=0)\n",
    "print('concatenated: shape of X:', X.shape)"
   ]
  },
  {
   "cell_type": "code",
   "execution_count": 15,
   "metadata": {
    "colab": {
     "base_uri": "https://localhost:8080/"
    },
    "id": "Z96zcikyxhB2",
    "outputId": "6f9a7c99-df00-4c96-f4cc-1bea6527354b"
   },
   "outputs": [
    {
     "data": {
      "text/plain": [
       "(11247,)"
      ]
     },
     "execution_count": 15,
     "metadata": {},
     "output_type": "execute_result"
    }
   ],
   "source": [
    "y=np.concatenate((y_enzyme, y_non_enzyme), axis=0)\n",
    "print('concatenated: shape of y:',y.shape)"
   ]
  },
  {
   "cell_type": "code",
   "execution_count": 6,
   "metadata": {},
   "outputs": [],
   "source": [
    "from tensorflow.keras.utils import to_categorical\n",
    "y = to_categorical(y, 2)\n",
    "#np.save('X',X)\n",
    "#np.save('y',y)"
   ]
  },
  {
   "cell_type": "code",
   "execution_count": 21,
   "metadata": {
    "id": "iPE6BLyPYNuJ"
   },
   "outputs": [],
   "source": [
    "#setting old varibales zero to save memory\n",
    "X_enzyme, X_non_enzyme,y_enzyme, y_non_enzyme=[],[],[],[]\n",
    "print('memory cleared')"
   ]
  },
  {
   "cell_type": "code",
   "execution_count": 4,
   "metadata": {
    "id": "dmprMgvDxiuW"
   },
   "outputs": [],
   "source": [
    "from sklearn.model_selection import train_test_split"
   ]
  },
  {
   "cell_type": "code",
   "execution_count": 14,
   "metadata": {
    "id": "WN1PfPYixlTd"
   },
   "outputs": [],
   "source": [
    "X_train, X_val, y_train, y_val = train_test_split(X, y, test_size=0.20, shuffle=True, random_state=10)\n",
    "print('train and validation split done')"
   ]
  },
  {
   "cell_type": "code",
   "execution_count": 15,
   "metadata": {},
   "outputs": [],
   "source": [
    "np.save('X_train',X_train)\n",
    "np.save('y_train',y_train)\n",
    "np.save('X_val',X_val)\n",
    "np.save('y_val',y_val)\n",
    "\n",
    "print('numpy files saved')"
   ]
  },
  {
   "cell_type": "code",
   "execution_count": 24,
   "metadata": {
    "id": "Tr2_3iyKppkv"
   },
   "outputs": [],
   "source": [
    "#setting X, y to zero to save memory\n",
    "X,y=[],[]\n",
    "\n",
    "print('clearing memory')\n",
    "\n",
    "print('Files for training ready')"
   ]
  },
  {
   "cell_type": "code",
   "execution_count": null,
   "metadata": {
    "id": "B8uib7kOcg2J"
   },
   "outputs": [],
   "source": []
  }
 ],
 "metadata": {
  "accelerator": "GPU",
  "colab": {
   "provenance": []
  },
  "gpuClass": "standard",
  "kernelspec": {
   "display_name": "Python 3 (ipykernel)",
   "language": "python",
   "name": "python3"
  },
  "language_info": {
   "codemirror_mode": {
    "name": "ipython",
    "version": 3
   },
   "file_extension": ".py",
   "mimetype": "text/x-python",
   "name": "python",
   "nbconvert_exporter": "python",
   "pygments_lexer": "ipython3",
   "version": "3.8.10"
  }
 },
 "nbformat": 4,
 "nbformat_minor": 1
}

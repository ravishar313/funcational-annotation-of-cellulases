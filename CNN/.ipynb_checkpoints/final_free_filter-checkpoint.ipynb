{
 "cells": [
  {
   "cell_type": "code",
   "execution_count": 1,
   "metadata": {
    "colab": {
     "base_uri": "https://localhost:8080/"
    },
    "id": "dzMIRvWahpy0",
    "outputId": "b5a25164-6bff-4e2d-a257-18638f1a2395"
   },
   "outputs": [
    {
     "name": "stdout",
     "output_type": "stream",
     "text": [
      "Looking in indexes: https://pypi.org/simple, https://us-python.pkg.dev/colab-wheels/public/simple/\n",
      "Collecting biopython\n",
      "  Downloading biopython-1.81-cp39-cp39-manylinux_2_17_x86_64.manylinux2014_x86_64.whl (3.1 MB)\n",
      "\u001b[2K     \u001b[90m━━━━━━━━━━━━━━━━━━━━━━━━━━━━━━━━━━━━━━━━\u001b[0m \u001b[32m3.1/3.1 MB\u001b[0m \u001b[31m37.4 MB/s\u001b[0m eta \u001b[36m0:00:00\u001b[0m\n",
      "\u001b[?25hRequirement already satisfied: numpy in /usr/local/lib/python3.9/dist-packages (from biopython) (1.22.4)\n",
      "Installing collected packages: biopython\n",
      "Successfully installed biopython-1.81\n"
     ]
    }
   ],
   "source": [
    "!pip3 install biopython"
   ]
  },
  {
   "cell_type": "code",
   "execution_count": 2,
   "metadata": {
    "id": "GhpFIvuhh2h1"
   },
   "outputs": [],
   "source": [
    "from Bio import SeqIO\n",
    "from keras.models import load_model\n",
    "import numpy as np\n",
    "import pandas as pd\n",
    "import sys\n",
    "import os\n",
    "import glob\n",
    "import shutil\n",
    "import logging\n",
    "import time\n",
    "import subprocess\n",
    "import copy"
   ]
  },
  {
   "cell_type": "code",
   "execution_count": 3,
   "metadata": {
    "id": "UmKrPkVlh4uk"
   },
   "outputs": [],
   "source": [
    "def preprocessing(fasta_file, temp_file):\n",
    "    l = 1000\n",
    "    fp = open(temp_file, 'w')\n",
    "    input_handle = open(fasta_file, \"r\")\n",
    "    for seq_record in SeqIO.parse(input_handle, \"fasta\"):   \n",
    "        seq_id = seq_record.id\n",
    "        seq = seq_record.seq\n",
    "        if len(seq) <= 1000:\n",
    "            fp.write('>%s\\n'%(seq_id))\n",
    "            fp.write('%s\\n'%(seq.strip()))\n",
    "        else:\n",
    "            for i in range(0, len(seq)-l+1, 100):\n",
    "                new_seq_id = '%s_SEPARATED_SEQUENCE_(%s_%s)' % (seq_id, i+1, i+l+1)\n",
    "                new_seq = seq[i:i+l]\n",
    "                fp.write('>%s\\n'%(new_seq_id))\n",
    "                fp.write('%s\\n'%(new_seq))\n",
    "    \n",
    "    input_handle.close()\n",
    "    fp.close()\n",
    "    return "
   ]
  },
  {
   "cell_type": "code",
   "execution_count": 4,
   "metadata": {
    "id": "D-2lrZOhh86B"
   },
   "outputs": [],
   "source": [
    "def fill_aa(seq):\n",
    "    fill_aa_cnt = 1000 - len(seq)\n",
    "    add_aa_seq = '_' * fill_aa_cnt\n",
    "    new_seq = seq + add_aa_seq\n",
    "    return new_seq"
   ]
  },
  {
   "cell_type": "code",
   "execution_count": 5,
   "metadata": {
    "id": "d6nPqrK8in7x"
   },
   "outputs": [],
   "source": [
    "def score_info():\n",
    "    aa_list = ['A', 'C', 'D', 'E', 'F', 'G', 'H', 'I', 'K', 'L', 'M', 'N', 'P', 'Q', 'R', 'S', 'T', 'V', 'W', 'Y', 'X', '_']\n",
    "    aa_score_info = {}\n",
    "    for aa in aa_list:\n",
    "        for aa2 in aa_list:\n",
    "            if aa == aa2:\n",
    "                aa_score_info[(aa, aa2)] = 1.0\n",
    "                aa_score_info[(aa2, aa)] = 1.0\n",
    "            else:\n",
    "                aa_score_info[(aa, aa2)] = 0.0\n",
    "                aa_score_info[(aa2, aa)] = 0.0\n",
    "    return aa_score_info"
   ]
  },
  {
   "cell_type": "code",
   "execution_count": 6,
   "metadata": {
    "id": "ezxwwZ8biqaE"
   },
   "outputs": [],
   "source": [
    "def one_hot_encoding(seq, aa_score_info):\n",
    "    data = np.zeros((1000, 21), dtype=np.float32)\n",
    "    aa_list = ['A', 'C', 'D', 'E', 'F', 'G', 'H', 'I', 'K', 'L', 'M', 'N', 'P', 'Q', 'R', 'S', 'T', 'V', 'W', 'Y', 'X']\n",
    "    for i, aa in enumerate(seq):\n",
    "        for j, aa2 in enumerate(aa_list):\n",
    "            data[i, j] = aa_score_info[aa, aa2]\n",
    "    return data"
   ]
  },
  {
   "cell_type": "code",
   "execution_count": 7,
   "metadata": {
    "id": "dB0PZ8zdiuba"
   },
   "outputs": [],
   "source": [
    "def run_one_hot_encoding(fasta_file, temp_file):\n",
    "    aa_score_info = score_info()\n",
    "    fp = open(temp_file, 'w')\n",
    "    feature_names = ['Feature%s'%(i) for i in range(1, 21001)] \n",
    "    \n",
    "    fp.write('%s\\n'%(','.join(['ID']+feature_names)))\n",
    "    \n",
    "    input_handle = open(fasta_file, \"r\")\n",
    "    for seq_record in SeqIO.parse(input_handle, \"fasta\"):   \n",
    "        try:\n",
    "            seq_id = seq_record.id\n",
    "            seq = seq_record.seq\n",
    "            if len(seq) >= 10 and len(seq) <= 1000:\n",
    "                if len(seq) < 1000:\n",
    "                    seq = fill_aa(seq)\n",
    "                encoded_vector = one_hot_encoding(seq, aa_score_info)\n",
    "                flatten_encoded_vector = encoded_vector.flatten()\n",
    "                flatten_encoded_vector_str = [str(each_val) for each_val in flatten_encoded_vector]\n",
    "                fp.write('%s\\n'%(','.join([seq_id]+flatten_encoded_vector_str)))\n",
    "        except:\n",
    "            pass\n",
    "    input_handle.close()\n",
    "    fp.close()"
   ]
  },
  {
   "cell_type": "code",
   "execution_count": 8,
   "metadata": {
    "id": "H9F5g2WFi5hv"
   },
   "outputs": [],
   "source": [
    "def create_df(df):\n",
    "    seq_ids = list(df.index)\n",
    "    X_temp = df.values\n",
    "    new_X = []\n",
    "    for i in range(len(X_temp)):\n",
    "        temp = np.reshape(X_temp[i], (1000, 21))\n",
    "        new_X.append(temp)\n",
    "    \n",
    "    X = np.asarray(new_X)\n",
    "    X = X.reshape(X.shape[0], 1000, 21, 1)\n",
    "    return X"
   ]
  },
  {
   "cell_type": "code",
   "execution_count": 9,
   "metadata": {
    "id": "xXOwj-7UkULc"
   },
   "outputs": [],
   "source": [
    "#creating dataset\n",
    "def create_dataset(fasta, val):\n",
    "  preprocessing(fasta, 'tmp.txt')\n",
    "  run_one_hot_encoding('tmp.txt', 'tmp1.txt')\n",
    "  temp_df = pd.read_csv('tmp1.txt', index_col=0)\n",
    "  dff=create_df(temp_df)\n",
    "  X=dff\n",
    "  y=np.full(len(temp_df.index), val)\n",
    "  return X, y"
   ]
  },
  {
   "cell_type": "code",
   "execution_count": 10,
   "metadata": {
    "id": "UxyQXjvMlhcw"
   },
   "outputs": [],
   "source": [
    "X_non_enzyme, y_non_enzyme=create_dataset('not_EC_1000_f.fasta',0)"
   ]
  },
  {
   "cell_type": "code",
   "execution_count": 11,
   "metadata": {
    "id": "OWOt9pB5mP6H"
   },
   "outputs": [],
   "source": [
    "X_enzyme, y_enzyme=create_dataset('EC_1000_f.fasta',1)"
   ]
  },
  {
   "cell_type": "code",
   "execution_count": 12,
   "metadata": {
    "colab": {
     "base_uri": "https://localhost:8080/"
    },
    "id": "z4g0VMBZmZXV",
    "outputId": "c524c84f-3caa-4bdf-e23f-5116f7512e47"
   },
   "outputs": [
    {
     "data": {
      "text/plain": [
       "(5844,)"
      ]
     },
     "execution_count": 12,
     "metadata": {},
     "output_type": "execute_result"
    }
   ],
   "source": [
    "y_non_enzyme.shape"
   ]
  },
  {
   "cell_type": "code",
   "execution_count": 13,
   "metadata": {
    "colab": {
     "base_uri": "https://localhost:8080/"
    },
    "id": "3YxIhNkVxVWR",
    "outputId": "ee619f00-9bb3-428f-cd4b-f3be95d5c625"
   },
   "outputs": [
    {
     "data": {
      "text/plain": [
       "(11247, 1000, 21, 1)"
      ]
     },
     "execution_count": 13,
     "metadata": {},
     "output_type": "execute_result"
    }
   ],
   "source": [
    "X=np.concatenate((X_enzyme, X_non_enzyme), axis=0)\n",
    "X.shape"
   ]
  },
  {
   "cell_type": "code",
   "execution_count": 14,
   "metadata": {
    "colab": {
     "base_uri": "https://localhost:8080/"
    },
    "id": "Z96zcikyxhB2",
    "outputId": "6f9a7c99-df00-4c96-f4cc-1bea6527354b"
   },
   "outputs": [
    {
     "data": {
      "text/plain": [
       "(11247,)"
      ]
     },
     "execution_count": 14,
     "metadata": {},
     "output_type": "execute_result"
    }
   ],
   "source": [
    "y=np.concatenate((y_enzyme, y_non_enzyme), axis=0)\n",
    "y.shape"
   ]
  },
  {
   "cell_type": "code",
   "execution_count": 15,
   "metadata": {
    "id": "iPE6BLyPYNuJ"
   },
   "outputs": [],
   "source": [
    "#setting old varibales zero to save memory\n",
    "X_enzyme, X_non_enzyme,y_enzyme, y_non_enzyme=[],[],[],[]"
   ]
  },
  {
   "cell_type": "code",
   "execution_count": 16,
   "metadata": {
    "id": "dmprMgvDxiuW"
   },
   "outputs": [],
   "source": [
    "from sklearn.model_selection import train_test_split"
   ]
  },
  {
   "cell_type": "code",
   "execution_count": 17,
   "metadata": {
    "id": "WN1PfPYixlTd"
   },
   "outputs": [],
   "source": [
    "X_train, X_val, y_train, y_val = train_test_split(X, y, test_size=0.20, shuffle=True, random_state=10)"
   ]
  },
  {
   "cell_type": "code",
   "execution_count": 18,
   "metadata": {
    "id": "Tr2_3iyKppkv"
   },
   "outputs": [],
   "source": [
    "#setting X, y to zero to save memory\n",
    "X,y=[],[]"
   ]
  },
  {
   "cell_type": "code",
   "execution_count": 19,
   "metadata": {
    "id": "VJD0JMCqxnY_"
   },
   "outputs": [],
   "source": [
    "from tensorflow.keras.utils import to_categorical\n",
    "y_train = to_categorical(y_train, 2)\n",
    "y_val = to_categorical(y_val, 2)"
   ]
  },
  {
   "cell_type": "code",
   "execution_count": 20,
   "metadata": {
    "colab": {
     "base_uri": "https://localhost:8080/"
    },
    "id": "vsV2DRXOxpZ-",
    "outputId": "40f7ee56-4d36-4463-bdc0-2b4621eb7307"
   },
   "outputs": [
    {
     "data": {
      "text/plain": [
       "(8997, 2)"
      ]
     },
     "execution_count": 20,
     "metadata": {},
     "output_type": "execute_result"
    }
   ],
   "source": [
    "y_train.shape"
   ]
  },
  {
   "cell_type": "code",
   "execution_count": 21,
   "metadata": {
    "colab": {
     "base_uri": "https://localhost:8080/"
    },
    "id": "uvxHLeaHxrdT",
    "outputId": "153f4797-87c4-4d13-fae0-62412f5628bb"
   },
   "outputs": [
    {
     "data": {
      "text/plain": [
       "(2250, 2)"
      ]
     },
     "execution_count": 21,
     "metadata": {},
     "output_type": "execute_result"
    }
   ],
   "source": [
    "y_val.shape"
   ]
  },
  {
   "cell_type": "code",
   "execution_count": 22,
   "metadata": {
    "id": "eGTALnPhTWaf"
   },
   "outputs": [],
   "source": [
    "from tensorflow import keras\n",
    "import tensorflow as tf\n",
    "keras.backend.clear_session()"
   ]
  },
  {
   "cell_type": "code",
   "execution_count": 23,
   "metadata": {
    "id": "vYhaJB81T5e-"
   },
   "outputs": [],
   "source": [
    "from tensorflow.keras import layers\n",
    "\n",
    "model=tf.keras.Sequential([\n",
    "    layers.Conv2D(filters=32, kernel_size=7, strides=(1, 1), input_shape=(1000,21,1), activation='relu'),\n",
    "    #layers.BatchNormalization(),\n",
    "\n",
    "    layers.Conv2D(filters=64, kernel_size=7, strides=(1, 1), input_shape=(1000,21,1), activation='relu'),\n",
    "    #layers.BatchNormalization(),\n",
    "    \n",
    "    layers.Conv2D(filters=128, kernel_size=7, strides=(1, 1), input_shape=(1000,21,1), activation='relu'),\n",
    "    layers.MaxPooling2D(),\n",
    "    layers.BatchNormalization(),\n",
    "    layers.Flatten(),\n",
    "\n",
    "    layers.Dense(64),\n",
    "    layers.BatchNormalization(),\n",
    "    layers.Activation('relu'),\n",
    "    layers.Dropout(0.2),\n",
    "\n",
    "    layers.Dense(128),\n",
    "    layers.BatchNormalization(),\n",
    "    layers.Activation('relu'),\n",
    "    layers.Dropout(0.2),\n",
    "\n",
    "    layers.Dense(256),\n",
    "    layers.BatchNormalization(),\n",
    "    layers.Activation('relu'),\n",
    "    layers.Dropout(0.2),\n",
    "\n",
    "    layers.Dense(2, activation='sigmoid'),\n",
    "\n",
    "])"
   ]
  },
  {
   "cell_type": "code",
   "execution_count": null,
   "metadata": {
    "id": "-er5jSYZxtaC"
   },
   "outputs": [],
   "source": [
    "from tensorflow.keras.layers import Input, Conv2D, MaxPooling2D, Flatten, Dense, BatchNormalization, Activation, Concatenate, Dropout\n",
    "from tensorflow.keras.models import Model\n",
    "\n",
    "input_layer = Input(shape=(1000, 21, 1))\n",
    "\n",
    "conv1 = Conv2D(filters=128, kernel_size=(4, 21), strides=(1, 1), padding='valid', activation='relu')(input_layer)\n",
    "conv2 = Conv2D(filters=128, kernel_size=(8, 21), strides=(1, 1), padding='valid', activation='relu')(input_layer)\n",
    "conv3 = Conv2D(filters=128, kernel_size=(16, 21), strides=(1, 1), padding='valid', activation='relu')(input_layer)\n",
    "\n",
    "pool1 = MaxPooling2D(pool_size=(997, 1))(conv1)\n",
    "pool2 = MaxPooling2D(pool_size=(993, 1))(conv2)\n",
    "pool3 = MaxPooling2D(pool_size=(985, 1))(conv3)\n",
    "\n",
    "flatten1 = Flatten()(pool1)\n",
    "flatten2 = Flatten()(pool2)\n",
    "flatten3 = Flatten()(pool3)\n",
    "\n",
    "bn1 = BatchNormalization()(flatten1)\n",
    "bn2 = BatchNormalization()(flatten2)\n",
    "bn3 = BatchNormalization()(flatten3)\n",
    "\n",
    "concat = Concatenate()([bn1, bn2, bn3])\n",
    "\n",
    "dense1 = Dense(128)(concat)\n",
    "bn4 = BatchNormalization()(dense1)\n",
    "act1 = Activation('relu')(bn4)\n",
    "dropout1= Dropout(0.3)(act1)\n",
    "\n",
    "dense2 = Dense(256)(dropout1)\n",
    "bn5 = BatchNormalization()(dense2)\n",
    "act2 = Activation('relu')(bn5)\n",
    "dropout2=Dropout(0.3)(act2)\n",
    "\n",
    "dense3 = Dense(512)(dropout2)\n",
    "bn6 = BatchNormalization()(dense3)\n",
    "act3 = Activation('relu')(bn6)\n",
    "dropout3=Dropout(0.3)(act3)\n",
    "\n",
    "output_layer = Dense(2, activation='sigmoid')(dropout3)\n",
    "\n",
    "model = Model(inputs=input_layer, outputs=output_layer)\n"
   ]
  },
  {
   "cell_type": "code",
   "execution_count": 24,
   "metadata": {
    "colab": {
     "base_uri": "https://localhost:8080/"
    },
    "id": "6JaK9trOTdV-",
    "outputId": "550ff562-84db-4ef7-e650-23e085605788"
   },
   "outputs": [
    {
     "name": "stdout",
     "output_type": "stream",
     "text": [
      "Model: \"sequential\"\n",
      "_________________________________________________________________\n",
      " Layer (type)                Output Shape              Param #   \n",
      "=================================================================\n",
      " conv2d (Conv2D)             (None, 994, 15, 32)       1600      \n",
      "                                                                 \n",
      " conv2d_1 (Conv2D)           (None, 988, 9, 64)        100416    \n",
      "                                                                 \n",
      " conv2d_2 (Conv2D)           (None, 982, 3, 128)       401536    \n",
      "                                                                 \n",
      " max_pooling2d (MaxPooling2D  (None, 491, 1, 128)      0         \n",
      " )                                                               \n",
      "                                                                 \n",
      " batch_normalization (BatchN  (None, 491, 1, 128)      512       \n",
      " ormalization)                                                   \n",
      "                                                                 \n",
      " flatten (Flatten)           (None, 62848)             0         \n",
      "                                                                 \n",
      " dense (Dense)               (None, 64)                4022336   \n",
      "                                                                 \n",
      " batch_normalization_1 (Batc  (None, 64)               256       \n",
      " hNormalization)                                                 \n",
      "                                                                 \n",
      " activation (Activation)     (None, 64)                0         \n",
      "                                                                 \n",
      " dropout (Dropout)           (None, 64)                0         \n",
      "                                                                 \n",
      " dense_1 (Dense)             (None, 128)               8320      \n",
      "                                                                 \n",
      " batch_normalization_2 (Batc  (None, 128)              512       \n",
      " hNormalization)                                                 \n",
      "                                                                 \n",
      " activation_1 (Activation)   (None, 128)               0         \n",
      "                                                                 \n",
      " dropout_1 (Dropout)         (None, 128)               0         \n",
      "                                                                 \n",
      " dense_2 (Dense)             (None, 256)               33024     \n",
      "                                                                 \n",
      " batch_normalization_3 (Batc  (None, 256)              1024      \n",
      " hNormalization)                                                 \n",
      "                                                                 \n",
      " activation_2 (Activation)   (None, 256)               0         \n",
      "                                                                 \n",
      " dropout_2 (Dropout)         (None, 256)               0         \n",
      "                                                                 \n",
      " dense_3 (Dense)             (None, 2)                 514       \n",
      "                                                                 \n",
      "=================================================================\n",
      "Total params: 4,570,050\n",
      "Trainable params: 4,568,898\n",
      "Non-trainable params: 1,152\n",
      "_________________________________________________________________\n"
     ]
    }
   ],
   "source": [
    "model.summary()"
   ]
  },
  {
   "cell_type": "code",
   "execution_count": 25,
   "metadata": {
    "colab": {
     "base_uri": "https://localhost:8080/"
    },
    "id": "BLfim2bmQVZ7",
    "outputId": "235731ed-0adf-4816-ef57-b5ebeae1dce8"
   },
   "outputs": [
    {
     "name": "stderr",
     "output_type": "stream",
     "text": [
      "WARNING:absl:`lr` is deprecated, please use `learning_rate` instead, or use the legacy optimizer, e.g.,tf.keras.optimizers.legacy.SGD.\n"
     ]
    },
    {
     "name": "stdout",
     "output_type": "stream",
     "text": [
      "Epoch 1/40\n",
      "71/71 [==============================] - 46s 452ms/step - loss: 0.5865 - binary_accuracy: 0.6985 - val_loss: 0.6916 - val_binary_accuracy: 0.5080\n",
      "Epoch 2/40\n",
      "71/71 [==============================] - 28s 389ms/step - loss: 0.5235 - binary_accuracy: 0.7373 - val_loss: 0.7172 - val_binary_accuracy: 0.5080\n",
      "Epoch 3/40\n",
      "71/71 [==============================] - 28s 399ms/step - loss: 0.4627 - binary_accuracy: 0.7800 - val_loss: 0.7312 - val_binary_accuracy: 0.5080\n",
      "Epoch 4/40\n",
      "71/71 [==============================] - 30s 417ms/step - loss: 0.3928 - binary_accuracy: 0.8296 - val_loss: 0.7457 - val_binary_accuracy: 0.5080\n",
      "Epoch 5/40\n",
      "71/71 [==============================] - 29s 414ms/step - loss: 0.3326 - binary_accuracy: 0.8656 - val_loss: 0.7176 - val_binary_accuracy: 0.5080\n",
      "Epoch 6/40\n",
      "71/71 [==============================] - 31s 434ms/step - loss: 0.2572 - binary_accuracy: 0.9029 - val_loss: 0.6892 - val_binary_accuracy: 0.5087\n",
      "Epoch 7/40\n",
      "71/71 [==============================] - 31s 442ms/step - loss: 0.1948 - binary_accuracy: 0.9376 - val_loss: 0.6422 - val_binary_accuracy: 0.5338\n",
      "Epoch 8/40\n",
      "71/71 [==============================] - 31s 444ms/step - loss: 0.1459 - binary_accuracy: 0.9601 - val_loss: 0.6590 - val_binary_accuracy: 0.5653\n",
      "Epoch 9/40\n",
      "71/71 [==============================] - 31s 437ms/step - loss: 0.1084 - binary_accuracy: 0.9753 - val_loss: 0.4431 - val_binary_accuracy: 0.7931\n",
      "Epoch 10/40\n",
      "71/71 [==============================] - 31s 439ms/step - loss: 0.0847 - binary_accuracy: 0.9843 - val_loss: 1.4876 - val_binary_accuracy: 0.5176\n",
      "Epoch 11/40\n",
      "71/71 [==============================] - 31s 435ms/step - loss: 0.0688 - binary_accuracy: 0.9882 - val_loss: 0.3462 - val_binary_accuracy: 0.8504\n",
      "Epoch 12/40\n",
      "71/71 [==============================] - 31s 437ms/step - loss: 0.0571 - binary_accuracy: 0.9910 - val_loss: 0.4103 - val_binary_accuracy: 0.8471\n",
      "Epoch 13/40\n",
      "71/71 [==============================] - 31s 439ms/step - loss: 0.0468 - binary_accuracy: 0.9942 - val_loss: 1.6533 - val_binary_accuracy: 0.5436\n",
      "Epoch 14/40\n",
      "71/71 [==============================] - 31s 438ms/step - loss: 0.0537 - binary_accuracy: 0.9893 - val_loss: 0.4932 - val_binary_accuracy: 0.8036\n",
      "Epoch 15/40\n",
      "71/71 [==============================] - 31s 438ms/step - loss: 0.0363 - binary_accuracy: 0.9951 - val_loss: 0.4077 - val_binary_accuracy: 0.8316\n",
      "Epoch 16/40\n",
      "71/71 [==============================] - 32s 446ms/step - loss: 0.0307 - binary_accuracy: 0.9967 - val_loss: 0.3832 - val_binary_accuracy: 0.8491\n",
      "Epoch 17/40\n",
      "71/71 [==============================] - 32s 445ms/step - loss: 0.0284 - binary_accuracy: 0.9963 - val_loss: 0.3734 - val_binary_accuracy: 0.8527\n",
      "Epoch 18/40\n",
      "71/71 [==============================] - 31s 436ms/step - loss: 0.0263 - binary_accuracy: 0.9965 - val_loss: 0.5320 - val_binary_accuracy: 0.8402\n",
      "Epoch 19/40\n",
      "71/71 [==============================] - 31s 437ms/step - loss: 0.0228 - binary_accuracy: 0.9974 - val_loss: 0.4104 - val_binary_accuracy: 0.8438\n",
      "Epoch 20/40\n",
      "71/71 [==============================] - 32s 447ms/step - loss: 0.0213 - binary_accuracy: 0.9978 - val_loss: 0.4337 - val_binary_accuracy: 0.8533\n",
      "Epoch 21/40\n",
      "71/71 [==============================] - 32s 448ms/step - loss: 0.0197 - binary_accuracy: 0.9978 - val_loss: 0.4068 - val_binary_accuracy: 0.8544\n"
     ]
    }
   ],
   "source": [
    "#with batch size mentioned\n",
    "#with early stopping\n",
    "\n",
    "from tensorflow.keras.callbacks import EarlyStopping\n",
    "\n",
    "early_stopping = EarlyStopping(\n",
    "    min_delta=0.001, # minimium amount of change to count as an improvement\n",
    "    patience=10, # how many epochs to wait before stopping\n",
    "    restore_best_weights=True,\n",
    ")\n",
    "\n",
    "model.compile(\n",
    "    optimizer=tf.keras.optimizers.SGD(lr=0.1),\n",
    "    loss='binary_crossentropy',\n",
    "    metrics=['binary_accuracy']\n",
    ")\n",
    "\n",
    "history = model.fit(\n",
    "    X_train, y_train,\n",
    "    validation_data=(X_val,y_val),\n",
    "    batch_size=128,\n",
    "    callbacks=[early_stopping],\n",
    "    epochs=40)"
   ]
  },
  {
   "cell_type": "code",
   "execution_count": 26,
   "metadata": {
    "colab": {
     "base_uri": "https://localhost:8080/",
     "height": 265
    },
    "id": "21O3WxMGRdXy",
    "outputId": "fa9fa491-c418-4764-85ac-830976d8a208"
   },
   "outputs": [
    {
     "data": {
      "image/png": "[encoded data removed]",
      "text/plain": [
       "<Figure size 432x288 with 1 Axes>"
      ]
     },
     "metadata": {
      "needs_background": "light"
     },
     "output_type": "display_data"
    }
   ],
   "source": [
    "# Show the learning curves\n",
    "history_df = pd.DataFrame(history.history)\n",
    "history_df.loc[:, ['loss', 'val_loss']].plot();"
   ]
  },
  {
   "cell_type": "code",
   "execution_count": null,
   "metadata": {
    "id": "Lq-3DTzfdKTV"
   },
   "outputs": [],
   "source": [
    "history=[]"
   ]
  },
  {
   "cell_type": "code",
   "execution_count": null,
   "metadata": {
    "colab": {
     "base_uri": "https://localhost:8080/"
    },
    "id": "gEtiNB0-UHBB",
    "outputId": "26b07cb7-5b89-4814-cba5-07eb6ca4c126"
   },
   "outputs": [
    {
     "data": {
      "text/plain": [
       "<function torch.cuda.memory.empty_cache() -> None>"
      ]
     },
     "execution_count": 4,
     "metadata": {},
     "output_type": "execute_result"
    }
   ],
   "source": [
    "torch.cuda.empty_cache"
   ]
  },
  {
   "cell_type": "code",
   "execution_count": null,
   "metadata": {
    "id": "B8uib7kOcg2J"
   },
   "outputs": [],
   "source": []
  }
 ],
 "metadata": {
  "accelerator": "GPU",
  "colab": {
   "provenance": []
  },
  "gpuClass": "standard",
  "kernelspec": {
   "display_name": "Python 3 (ipykernel)",
   "language": "python",
   "name": "python3"
  },
  "language_info": {
   "codemirror_mode": {
    "name": "ipython",
    "version": 3
   },
   "file_extension": ".py",
   "mimetype": "text/x-python",
   "name": "python",
   "nbconvert_exporter": "python",
   "pygments_lexer": "ipython3",
   "version": "3.9.16"
  }
 },
 "nbformat": 4,
 "nbformat_minor": 1
}

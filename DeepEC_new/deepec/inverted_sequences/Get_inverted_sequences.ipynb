{
 "cells": [
  {
   "cell_type": "code",
   "execution_count": 18,
   "metadata": {},
   "outputs": [],
   "source": [
    "acc,seq=[],[]\n",
    "with open('EC176_final.fasta','r',encoding='utf-8') as fasta_file:\n",
    "    for ii in fasta_file:\n",
    "        if ii.startswith('>'):\n",
    "            acc.append(ii.rstrip())\n",
    "            \n",
    "        else:\n",
    "            seq.append(ii.rstrip()) "
   ]
  },
  {
   "cell_type": "code",
   "execution_count": 19,
   "metadata": {},
   "outputs": [],
   "source": [
    "def invert_seq(sequence):\n",
    "    return sequence[::-1]"
   ]
  },
  {
   "cell_type": "code",
   "execution_count": 20,
   "metadata": {},
   "outputs": [
    {
     "name": "stdout",
     "output_type": "stream",
     "text": [
      "inverted sequence file is successfully saved\n"
     ]
    }
   ],
   "source": [
    "xx=len(acc)\n",
    "with open('EC176_inverted.fasta','w',encoding='utf-8') as otp:\n",
    "    for i in range(xx):\n",
    "        acc_id=acc[i]+'&inverted'\n",
    "        inv_seq=invert_seq(seq[i])\n",
    "        otp.write(acc_id+'\\n'+inv_seq+'\\n')\n",
    "print('inverted sequence file is successfully saved')"
   ]
  },
  {
   "cell_type": "code",
   "execution_count": null,
   "metadata": {},
   "outputs": [],
   "source": []
  }
 ],
 "metadata": {
  "kernelspec": {
   "display_name": "Python 3",
   "language": "python",
   "name": "python3"
  },
  "language_info": {
   "codemirror_mode": {
    "name": "ipython",
    "version": 3
   },
   "file_extension": ".py",
   "mimetype": "text/x-python",
   "name": "python",
   "nbconvert_exporter": "python",
   "pygments_lexer": "ipython3",
   "version": "3.7.6"
  }
 },
 "nbformat": 4,
 "nbformat_minor": 4
}
